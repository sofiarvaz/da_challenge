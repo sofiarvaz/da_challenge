{
 "cells": [
  {
   "cell_type": "markdown",
   "metadata": {},
   "source": [
    "# **Daltix Data Analyst Challenge**\n",
    "In this challenge you will explore a subset of data that mirrors (in a simplified manner) some of the data we work with at Daltix.  \n",
    "The goal of this challenge is to explore the data we provide and share all insights you find relevant in a business-friendly manner.\n",
    "  \n",
    "Some tips:\n",
    "* Imagine you are presenting these to both technical and non-technical members of your company. \n",
    "* Take into consideration that the code you produce should be readable and reusable by a colleague in the future.\n",
    "\n",
    "\n",
    "**Good luck** 😀\n",
    "\n",
    "> The Daltix Team\n",
    "______________"
   ]
  },
  {
   "cell_type": "markdown",
   "metadata": {},
   "source": [
    "Owner: Sofia Vaz - Date: 2019-11-05\n",
    "\n",
    "Python version: 3.7.4 - Conda version: 4.7.12 - Jupyter Notebook version: 6.0.1"
   ]
  },
  {
   "cell_type": "code",
   "execution_count": null,
   "metadata": {},
   "outputs": [],
   "source": [
    "import pandas as pd\n",
    "import pandasql as ps\n",
    "import numpy as np\n",
    "import matplotlib.pyplot as plt"
   ]
  },
  {
   "cell_type": "markdown",
   "metadata": {},
   "source": [
    "______________\n",
    "## 1. Extract the data\n",
    "**Description**\n",
    "\n",
    "In this section you will focus on importing the files from the dataset that was provided and do a simple QA of the data.\n",
    "  \n",
    "After completing it you should be have all 4 tables locally available.\n",
    "\n",
    "_Question:_\n",
    "* Did you notice any quality issues with the files we provided? If so, can you list them? How did you deal with them? "
   ]
  },
  {
   "cell_type": "markdown",
   "metadata": {},
   "source": [
    "### Import Tables & Tables Overview"
   ]
  },
   {
   "cell_type": "code",
   "execution_count": 2,
   "metadata": {},
   "outputs": [],
   "source": [
    "## Import Tables:\n",
    "product_tab = pd.read_csv ('C:/Users/Vaz/Desktop/DALTIX/product.csv', sep=',', skip_blank_lines=True)\n",
    "price_tab = pd.read_csv ('C:/Users/Vaz/Desktop/DALTIX/price.csv', sep=',', skip_blank_lines=True)\n",
    "category_tab = pd.read_csv ('C:/Users/Vaz/Desktop/DALTIX/category.csv', sep='|', skip_blank_lines=True)\n",
    "promo_tab = pd.read_csv ('C:/Users/Vaz/Desktop/DALTIX/promo.csv', sep=',', skip_blank_lines=True)"
   ]
  },
   {
   "cell_type": "code",
   "execution_count": 3,
   "metadata": {},
   "outputs": [],
   "source": [
    "## Tables Overview:\n",
    "\n",
    "#product_tab.head()\n",
    "#product_tab.describe(include='all')\n",
    "#price_tab.head()\n",
    "#price_tab.describe(include='all')\n",
    "#category_tab.head()\n",
    "#category_tab.describe(include='all')\n",
    "#promo_tab.head()\n",
    "#promo_tab.describe(include='all')\n",
    "\n",
    "\n",
    "## Chech columns types:\n",
    "\n",
    "#product_tab.info()\n",
    "#price_tab.info()\n",
    "#category_tab.info()\n",
    "#promo_tab.info()\n",
    "\n",
    "\n",
    "## Number of null entries per category:\n",
    "\n",
    "#product_tab.isnull().sum()\n",
    "#price_tab.isnull().sum()\n",
    "#category_tab.isnull().sum()\n",
    "#promo_tab.isnull().sum()\n",
    "\n",
    "\n",
    "## Find Duplicate Rows:\n",
    "\n",
    "#product_tab_norep = product_tab.drop_duplicates(keep='first')\n",
    "#print('Product Table has ' + str(len(product_tab) - len(product_tab_norep)) + ' duplicate rows')\n",
    "#price_tab_norep = price_tab.drop_duplicates(keep='first')\n",
    "#print('Price Table has ' + str(len(price_tab) - len(price_tab_norep)) + ' duplicate rows')\n",
    "#category_tab_norep = category_tab.drop_duplicates(keep='first')\n",
    "#print('Category Table has ' + str(len(category_tab) - len(category_tab_norep)) + ' duplicate rows')\n",
    "#promo_tab_norep = promo_tab.drop_duplicates(keep='first')\n",
    "#print('Promo Table has ' + str(len(promo_tab) - len(promo_tab_norep)) + ' duplicate rows')\n",
    "\n",
    "\n",
    "## Find Unique Values Per Column:\n",
    "\n",
    "#print(product_tab.shop.unique())\n",
    "#print(product_tab.country.unique())\n",
    "#print(list(product_tab.brand.sort_values().unique()))\n",
    "#print(list(product_tab.name.sort_values().unique()))\n",
    "\n",
    "#print(price_tab.shop.unique())\n",
    "#print(price_tab.country.unique())\n",
    "#print(price_tab.location.unique())\n",
    "#print(price_tab.unit_std.unique())\n",
    "\n",
    "#print(category_tab.shop.unique())\n",
    "#print(category_tab.country.unique())\n",
    "#print(list(category_tab.categories.sort_values().unique()))"
   ]
  },
  {
   "cell_type": "markdown",
   "metadata": {},
   "source": [
    "### 1.1 - Product Table"
   ]
  },
  {
   "cell_type": "markdown",
   "metadata": {},
   "source": [
    "##### Main Issues Detected\n",
    "\n",
    "- Duplicate rows: 41\n",
    "\n",
    "- Column \"country\" - lacks standardisation ('be' is different from 'be   ')\n",
    "\n",
    "- Column \"brand\" - lacks standardisation (upper/lowercase; ®)\n",
    "    - e.g.1: 'ALPRO' vs. 'ALPRO®'\n",
    "    - e.g.2: 'ALPRO' vs. 'Alpro' \n",
    "\n",
    "- Column \"name\" - lacks standardisation (upper/lowercase) \n",
    "\n",
    "##### Clean Table"
   ]
  },
  {
   "cell_type": "code",
   "execution_count": 4,
   "metadata": {},
   "outputs": [],
   "source": [
    "## Eliminate duplicate rows:\n",
    "product_tab = product_tab.drop_duplicates(keep='first')\n",
    "\n",
    "## Standardize \"country\":\n",
    "product_tab.loc[product_tab.country.str.contains('be'), 'country'] = 'be'\n",
    "product_tab.loc[product_tab.country.str.contains('nl'), 'country'] = 'nl'\n",
    "\n",
    "## Standardize categorical vars:\n",
    "product_tab['name'] = product_tab['name'].str.lower()\n",
    "product_tab['brand'] = product_tab['brand'].str.lower()\n",
    "product_tab.brand = product_tab.brand.apply(lambda x: x.replace('®', '') if isinstance(x, str) else x)\n",
    "product_tab['contents'] = product_tab['contents'].str.lower()"
   ]
  },
  {
   "cell_type": "markdown",
   "metadata": {},
   "source": [
    "### 1.2 - Price Table"
   ]
  },
  {
   "cell_type": "markdown",
   "metadata": {},
   "source": [
    "##### Main Issues Detected\n",
    "\n",
    "- Duplicate rows: 1649\n",
    "\n",
    "- Column \"price\" - highly scattered, with outliers. Some outliers were removed in this section. There are still weird prices that will be analized in section 3.5.\n",
    "\n",
    "- Column \"price\" is also a numerical category, with NaN values. These rows need to be deleted.\n",
    "\n",
    "##### Clean Table"
   ]
  },
  {
   "cell_type": "code",
   "execution_count": 5,
   "metadata": {},
   "outputs": [],
   "source": [
    "## Eliminate duplicate rows:\n",
    "price_tab = price_tab.drop_duplicates(keep='first')\n",
    "\n",
    "## Eliminate rows with NaN values in 'price' column:\n",
    "price_tab = price_tab.dropna(axis=0, subset=['price'])"
   ]
  },
  {
   "cell_type": "code",
   "execution_count": 6,
   "metadata": {},
   "outputs": [
    {
     "data": {
      "text/plain": [
       "<matplotlib.axes._subplots.AxesSubplot at 0x18e21b3da88>"
      ]
     },
     "execution_count": 6,
     "metadata": {},
     "output_type": "execute_result"
    },
    {
     "data": {
      "image/png": "[encoded data removed]",
      "text/plain": [
       "<Figure size 432x288 with 1 Axes>"
      ]
     },
     "metadata": {
      "needs_background": "light"
     },
     "output_type": "display_data"
    }
   ],
   "source": [
    "## Check for outliers:\n",
    "\n",
    "## Check for outliers visually by finding the standard deviation by 'daltix_id':\n",
    "find_outliers_tab = price_tab[['daltix_id', 'location', 'price', 'date']].copy().drop_duplicates(keep='first')\n",
    "stdeviations = find_outliers_tab.groupby('daltix_id').std()\n",
    "\n",
    "## Add price standard deviation as 'price_std' to the table 'find_outliers_tab' and 'price_tab':\n",
    "stdeviations.columns = stdeviations.columns + '_std'\n",
    "find_outliers_tab = pd.merge(find_outliers_tab, stdeviations.price_std, how='outer', on=['daltix_id'])\n",
    "price_tab = pd.merge(price_tab, stdeviations.price_std, how='outer', on=['daltix_id'])\n",
    "\n",
    "## Plot 'price_std' per 'daltix_id':\n",
    "find_outliers_tab.plot(x=\"daltix_id\", y=\"price_std\", marker='.')"
   ]
  },
  {
   "cell_type": "code",
   "execution_count": 7,
   "metadata": {},
   "outputs": [],
   "source": [
    "## Define metrics to delete outliers:\n",
    "\n",
    "## See different price entries introduced per daltix_id:\n",
    "find_outliers_tab.groupby('daltix_id')['price'].unique()\n",
    "\n",
    "## Find number of unique price entries per daltix_id:\n",
    "price_per_daltix_id = find_outliers_tab[['daltix_id', 'price']].copy().drop_duplicates(keep='first')\n",
    "price_nrprices_tab = price_per_daltix_id.groupby('daltix_id')['price'].count().to_frame('nr_prices').reset_index()\n",
    "price_nrprices_tab.sort_values(by='daltix_id')\n",
    "\n",
    "## Are any prices wrongly introduced/registered? See the number of price entries per different 'price' per 'daltix_id':\n",
    "daltix_ids = find_outliers_tab.daltix_id.unique()\n",
    "price_entries_tab = find_outliers_tab.groupby(['daltix_id', 'price'])['price'].count().to_frame('price_entries').reset_index()\n",
    "price_entries_tab.sort_values(by='daltix_id')\n",
    "\n",
    "## Add 'price_entries' column and 'nr_prices' to price_tab:\n",
    "price_tab_2 = pd.merge(price_tab, price_entries_tab, how='outer', on=['daltix_id', 'price'])\n",
    "price_tab_3 = pd.merge(price_tab_2, price_nrprices_tab, how='outer', on=['daltix_id'])\n",
    "\n",
    "## Change 'price_entries' and 'nr_prices' columns into integers:\n",
    "price_tab_3.price_entries = price_tab_3.price_entries.astype(int)\n",
    "price_tab_3.nr_prices = price_tab_3.nr_prices.astype(int)\n",
    "\n",
    "## Eliminate Outliers - vals introduced <=3x when >1 prices have been introduced for a particular 'daltix_id':\n",
    "outliers = price_tab_3[(price_tab_3.nr_prices>1) & (price_tab_3.price_entries<=3)]\n",
    "price_tab_outliersfree = price_tab_3[~((price_tab_3.nr_prices>1) & (price_tab_3.price_entries<=3))]\n",
    "\n",
    "## Check:\n",
    "#pd.set_option('display.max_rows', price_tab_outliersfree.shape[0]+1)\n",
    "#price_tab_outliersfree[price_tab_outliersfree.product_id.isin(['S2019080600288050000'])].sort_values(by='price')"
   ]
  },
  {
   "cell_type": "code",
   "execution_count": 8,
   "metadata": {},
   "outputs": [
    {
     "data": {
      "text/plain": [
       "<matplotlib.axes._subplots.AxesSubplot at 0x18e22868d48>"
      ]
     },
     "execution_count": 8,
     "metadata": {},
     "output_type": "execute_result"
    },
    {
     "data": {
      "image/png": "[encoded data removed]",
      "text/plain": [
       "<Figure size 432x288 with 1 Axes>"
      ]
     },
     "metadata": {
      "needs_background": "light"
     },
     "output_type": "display_data"
    }
   ],
   "source": [
    "## Check for outliers after first metrics was applied:\n",
    "\n",
    "## Check for outliers a second time visually by finding the standard deviation by 'daltix_id':\n",
    "find_outliers_tab = price_tab_outliersfree[['daltix_id', 'location', 'price', 'date']].copy().drop_duplicates(keep='first')\n",
    "stdeviations = find_outliers_tab.groupby('daltix_id').std()\n",
    "\n",
    "## Add price standard deviation as 'price_std' to the table 'find_outliers_tab':\n",
    "stdeviations.columns = stdeviations.columns + '_std2'\n",
    "find_outliers_tab = pd.merge(find_outliers_tab, stdeviations.price_std2, how='outer', on=['daltix_id'])\n",
    "price_tab = pd.merge(price_tab, stdeviations.price_std2, how='outer', on=['daltix_id'])\n",
    "#price_tab_outliersfree = pd.merge(price_tab_outliersfree, stdeviations.price_std2, how='outer', on=['daltix_id']) APAGAR\n",
    "\n",
    "## Plot 'price_std' per 'daltix_id':\n",
    "find_outliers_tab.plot(x=\"daltix_id\", y=\"price_std2\", marker='.', ylim=[0,10000])"
   ]
  },
  {
   "cell_type": "markdown",
   "metadata": {},
   "source": [
    "### 1.3 - Category Table"
   ]
  },
  {
   "cell_type": "markdown",
   "metadata": {},
   "source": [
    "##### Main Issues Detected\n",
    "- Field \"categories\" - separate into 'main_category', 'sub_category_1', 'sub_category_2'\n",
    "\n",
    "- Field 'main_category' - has different levels of main category (promotion category is very different from a product type category). Only shop1 has main categories that are not product type, and all shop1's  main categories are not product type.\n",
    "    - e.g.1: 'Aanbiedingen' vs. 'Dranken'\n",
    "    \n",
    "- Field \"main_category\" - lacks standardisation\n",
    "    - e.g.1: 'Wijn & Bubbels' vs. 'Wijn en Bubbels'\n",
    "    - e.g.2: 'Brood / Ontbijt' vs. 'Brood/Ontbijt'\n",
    "    \n",
    "\n",
    "##### Clean Table"
   ]
  },
  {
   "cell_type": "code",
   "execution_count": 9,
   "metadata": {},
   "outputs": [],
   "source": [
    "## Standardize column 'categories' in category_tab:\n",
    "category_tab['categories'] = category_tab['categories'].str.lower()\n",
    "category_tab.categories = category_tab.categories.apply(lambda x: x.replace(' / ', '/') if isinstance(x, str) else x)\n",
    "category_tab.categories = category_tab.categories.apply(lambda x: x.replace('&', 'en') if isinstance(x, str) else x)\n",
    "category_tab.categories = category_tab.categories.apply(lambda x: x.replace('  ', ' ') if isinstance(x, str) else x)\n",
    "\n",
    "## Split 'categories' column into 3 columns (n=2):\n",
    "category_split = category_tab[\"categories\"].str.split(\",\", n = 2, expand = True) \n",
    "\n",
    "## Clean each new column by selecting text between \"\":\n",
    "category_split_0 = category_split[0].str.split(\"\\\"\", n = 2, expand = True)\n",
    "category_split_1 = category_split[1].str.split(\"\\\"\", n = 2, expand = True)\n",
    "category_split_2 = category_split[2]\n",
    "\n",
    "## Give new columns the names 'main_category', 'sub_category_1', 'subsub_categories', and add them to 'category_tab' table:\n",
    "category_tab[\"main_category\"]= category_split_0[1]\n",
    "category_tab[\"sub_category_1\"]= category_split_1[1]\n",
    "category_tab[\"subsub_categories\"]= category_split_2\n",
    "\n",
    "## Analyze each shop categories:\n",
    "#category_tab.main_category[category_tab.shop == 'shop1'].value_counts().plot.pie()\n",
    "#print(category_tab.main_category[category_tab.shop == 'shop1'].sort_values().unique())\n",
    "\n",
    "## Separate category data from shop1 to a different table (category_tab_shop1):\n",
    "category_tab_shop1 = category_tab[category_tab.shop == 'shop1'].copy()\n",
    "category_tab = category_tab[category_tab.shop != 'shop1'].copy()"
   ]
  },
  {
   "cell_type": "markdown",
   "metadata": {},
   "source": [
    "### 1.4 - Promo Table"
   ]
  },
  {
   "cell_type": "markdown",
   "metadata": {},
   "source": [
    "##### Main Issues Detected\n",
    "\n",
    "- Field \"dlevel\" - highly scattered\n",
    "\n",
    "    - Most discount values were in the [0,1] range. However, some instances were in the [0,100] range (probably introduced as percentages). These values were normalized and used in the analysis.\n",
    "    \n",
    "    - Discounts over 0.75 do not exist, as expected and only one item from shop3 has dlevels over 0.5, in both 'ledeberg' and 'ans' locations.\n",
    "\n",
    "##### Clean Table"
   ]
  },
  {
   "cell_type": "code",
   "execution_count": 10,
   "metadata": {},
   "outputs": [],
   "source": [
    "## Check unique discount values 'dlevel':\n",
    "promo_tab.dlevel.sort_values().unique()\n",
    "\n",
    "## Check number of discount values > 1 (these were probably introduced as percentages):\n",
    "promo_tab[promo_tab.dlevel > 1]\n",
    "\n",
    "## Normalize dlevels introduced as percentages:\n",
    "promo_tab.loc[promo_tab['dlevel'] > 1, 'dlevel'] = promo_tab['dlevel'] * 0.01\n",
    "\n",
    "## Does the maximum dlevel make sense? Over 0.5 is a very big discount.\n",
    "#promo_tab[promo_tab.dlevel > 0.5]"
   ]
  },
  {
   "cell_type": "code",
   "execution_count": null,
   "metadata": {},
   "outputs": [],
   "source": [
    "# code here"
   ]
  },
  {
   "cell_type": "markdown",
   "metadata": {},
   "source": [
    "_____________________\n",
    "## 2. Explore the dataset\n",
    "\n",
    "**Requirements:**\n",
    "Use `pandasql` to query the tables and explore the dataset\n",
    "\n",
    "**Description**\n",
    "\n",
    "In this section you are free to explore the data however you like in order get to know your dataset. It's meant to be exploratory and only for you to get familiar with the data.\n",
    "\n",
    "At the end of this section you should be able to, at least, answer the following questions:\n",
    "* For which time interval you have prices for?\n",
    "* How many shops are comprised in the dataset?\n",
    "* How many different products are there per shop in the dataset?\n",
    "* Can a product have more than 1 active promotion at the same time? \n",
    "\n",
    "You are free (and __encouraged__) to further describe the dataset as you see fit."
   ]
  },
  
  
  
  
  
   {
   "cell_type": "code",
   "execution_count": 11,
   "metadata": {},
   "outputs": [],
   "source": [
    "def pysqldf(query):\n",
    " return ps.sqldf(query, globals())"
   ]
  },
  {
   "cell_type": "markdown",
   "metadata": {},
   "source": [
    "### 2.1 - For which time interval you have prices for?\n",
    "\n",
    "- From 2019-08-01 until 2019-10-15\n",
    "\n",
    "Owner Note: It was necessary to use pandas due to large file dimensions. Otherwise PC would crash.\n"
   ]
  },
  {
   "cell_type": "code",
   "execution_count": 12,
   "metadata": {},
   "outputs": [],
   "source": [
    "## USING PANDASQL: \n",
    "\n",
    "#q_sort_price_date = \"\"\"\n",
    "#SELECT DISTINCT price, date\n",
    "#FROM price_tab\n",
    "#WHERE price AND date IS NOT NULL\n",
    "#ORDER BY [date];\n",
    "#\"\"\"\n",
    "#sort_price_date = pysqldf(q_sort_price_date)\n",
    "#print(sort_price_date.head())\n",
    "#print(sort_price_date.tail())"
   ]
  },
  {
   "cell_type": "code",
   "execution_count": 13,
   "metadata": {},
   "outputs": [
    {
     "name": "stdout",
     "output_type": "stream",
     "text": [
      "ti: 2019-08-01\n",
      "tf: 2019-10-15\n"
     ]
    }
   ],
   "source": [
    "## USING PANDAS: \n",
    "\n",
    "#price_tab.sort_values(by='date')\n",
    "print(\"ti: \" + str(price_tab.date.min()))\n",
    "print(\"tf: \" + str(price_tab.date.max()))"
   ]
  },
  {
   "cell_type": "markdown",
   "metadata": {},
   "source": [
    "### 2.2 - How many shops are comprised in the dataset?\n",
    "\n",
    "- Product/Price Tables: 4 shops (Shop1, Shop2, Shop3, Shop4)\n",
    "- Promo Table: 3 shops (Shop2, Shop3, Shop4)\n",
    "- Category Table: 3 shops (Shop2, Shop3, Shop4) + Shop1, previously eliminated from this table\n",
    "\n",
    "Owner Note: It was necessary to use pandas for the price file, due to large file dimensions. Otherwise PC would crash.\n"
   ]
  },
  {
   "cell_type": "code",
   "execution_count": 14,
   "metadata": {},
   "outputs": [
    {
     "name": "stdout",
     "output_type": "stream",
     "text": [
      "Nr of shops in Product Table: 4\n",
      "Nr of shops in Category Table: 3\n",
      "Nr of shops in Promo Table: 3\n"
     ]
    }
   ],
   "source": [
    "## USING PANDASQL: \n",
    "\n",
    "    ## Product Dataset\n",
    "q_nr_shops_product_tab = \"\"\"\n",
    "SELECT DISTINCT product_tab.shop\n",
    "FROM product_tab;\n",
    "\"\"\"\n",
    "print(\"Nr of shops in Product Table: \" + str(len(pysqldf(q_nr_shops_product_tab))))\n",
    "#print(pysqldf(q_nr_shops_product_tab).sort_values(by='shop'))\n",
    "\n",
    "    ## Category Dataset\n",
    "q_nr_shops_category_tab = \"\"\"\n",
    "SELECT DISTINCT category_tab.shop\n",
    "FROM category_tab;\n",
    "\"\"\"\n",
    "print(\"Nr of shops in Category Table: \" + str(len(pysqldf(q_nr_shops_category_tab))))\n",
    "#print(pysqldf(q_nr_shops_category_tab).sort_values(by='shop'))\n",
    "\n",
    "    ## Promo Dataset\n",
    "q_nr_shops_promo_tab = \"\"\"\n",
    "SELECT DISTINCT promo_tab.shop\n",
    "FROM promo_tab;\n",
    "\"\"\"\n",
    "print(\"Nr of shops in Promo Table: \" + str(len(pysqldf(q_nr_shops_promo_tab))))\n",
    "#print(pysqldf(q_nr_shops_promo_tab).sort_values(by='shop'))\n",
    "\n",
    "    ## Price Dataset\n",
    "#q_nr_shops_price_tab = \"\"\"\n",
    "#SELECT DISTINCT price_tab.shop\n",
    "#FROM price_tab;\n",
    "#\"\"\"\n",
    "#print(\"Nr of shops in Price Table: \" + str(len(pysqldf(q_nr_shops_price_tab))))"
   ]
  },
  {
   "cell_type": "code",
   "execution_count": 15,
   "metadata": {},
   "outputs": [
    {
     "name": "stdout",
     "output_type": "stream",
     "text": [
      "Nr of shops in Price Table: 4\n"
     ]
    }
   ],
   "source": [
    "## USING PANDAS: \n",
    "\n",
    "    ## Price Dataset\n",
    "nr_shops_price_tab = price_tab.shop.unique()\n",
    "\n",
    "print(\"Nr of shops in Price Table: \" + str(len(nr_shops_price_tab)))\n",
    "#print(sorted(price_tab.shop.unique()))"
   ]
  },
  {
   "cell_type": "markdown",
   "metadata": {},
   "source": [
    "### 2.3 - How many different products are there per shop in the dataset?"
   ]
  },
  {
   "cell_type": "markdown",
   "metadata": {},
   "source": [
    "##### 2.3 - Main Issues Detected\n",
    "\n",
    "- Question: Is there a unique product_id for each daltix_id?\n",
    "\n",
    "    - Answer: NO. There are more daltix_ids than product_ids.\n",
    "        - Is it because daltix_id(product_id, shop, country)? Does this happen only when the shop is in > 1 country? YES\n",
    "        \n",
    "(See code below)"
   ]
  },
  {
   "cell_type": "code",
   "execution_count": 16,
   "metadata": {},
   "outputs": [
    {
     "name": "stdout",
     "output_type": "stream",
     "text": [
      "\n",
      "Unique Entries:\n",
      "Shops \t country \t daltix_id \t product_id \t name\n",
      "shop1\t2\t\t2010\t\t1896\t\t1901\n",
      "shop2\t1\t\t6\t\t6\t\t6\n",
      "shop3\t1\t\t807\t\t807\t\t794\n",
      "shop4\t1\t\t1369\t\t1369\t\t1363\n",
      "\n",
      "Unique daltix_ids per table:\n",
      "Shop \t Product_tab \t Price_tab \t Promo_tab \t Category_tab\n",
      "shop1 \t 2010\t\t5487\t\t0\t\t0\n",
      "shop2 \t 6\t\t17996\t\t3\t\t4\n",
      "shop3 \t 807\t\t9432\t\t115\t\t593\n",
      "shop4 \t 1369\t\t17788\t\t232\t\t765\n"
     ]
    }
   ],
   "source": [
    "shops = product_tab.shop.sort_values().unique()\n",
    "\n",
    "## Print unique values per shop, to understant if there is overlap between identifying variables:\n",
    "\n",
    "print('\\nUnique Entries:') \n",
    "print('Shops \\t country \\t daltix_id \\t product_id \\t name') \n",
    "for i in range(len(shops)):\n",
    "    print(str(shops[i]) + '\\t' + str(len(product_tab.country[product_tab.shop == shops[i]].unique())) +\n",
    "          '\\t\\t' + str(len(product_tab.daltix_id[product_tab.shop == shops[i]].unique())) +\n",
    "          '\\t\\t' + str(len(product_tab.product_id[product_tab.shop == shops[i]].unique())) +\n",
    "          '\\t\\t' + str(len(product_tab.name[product_tab.shop == shops[i]].unique())))\n",
    "    \n",
    "print('\\nUnique daltix_ids per table:')\n",
    "print('Shop \\t Product_tab \\t Price_tab \\t Promo_tab \\t Category_tab')\n",
    "for i in range(len(shops)):\n",
    "    print(str(shops[i]) + ' \\t ' +  str(len(product_tab.daltix_id[product_tab.shop == shops[i]].unique())) + '\\t\\t' +\n",
    "          str(len(price_tab.daltix_id[price_tab.shop == shops[i]].unique())) + '\\t\\t' +\n",
    "          str(len(promo_tab.daltix_id[promo_tab.shop == shops[i]].unique())) + '\\t\\t' +\n",
    "          str(len(category_tab.daltix_id[category_tab.shop == shops[i]].unique())))"
   ]
  },
  {
   "cell_type": "markdown",
   "metadata": {},
   "source": [
    "- Question: Can a shop have >1 products associated to the same product_id?\n",
    "\n",
    "    - Answer: YES. There are products within a shop with the same product_id that are very different products and have a different name! This can happen if the shop exists in different countries. In this case the variable \"daltix_id\" solves it. (e.g.2.3.1)\n",
    "    \n",
    "\n",
    "- Question: Can different shops have  products associated to the same product_id?\n",
    "\n",
    "    - Answer: YES. There are products from different shops that have the same product_id. They might even be similar products with names written slightly differently. In this case it does not affect the product count per shop. (e.g.2.3.2)\n",
    "    \n",
    "    \n",
    "- Question: Can a shop have >1 products with the same name identified with different product_id's?\n",
    "\n",
    "    - Answer: YES. There are products within a shop with the same name that have different product_ids (both in the same country and in different countries)! In these cases the same product can be considered >1 time. (e.g.2.3.3 and e.g.2.3.4)\n",
    "    \n",
    "(See code below)   "
   ]
  },
  {
   "cell_type": "code",
   "execution_count": 17,
   "metadata": {},
   "outputs": [
    {
     "name": "stdout",
     "output_type": "stream",
     "text": [
      "\n",
      "Example 2.3.1: \n",
      "      shop country product_id                name\n",
      "455  shop1      be       1270    hondenpoepzakjes\n",
      "547  shop1      nl       1270  italiaanse burgers\n",
      "\n",
      "Example 2.3.2: \n",
      "       shop country product_id                                      name\n",
      "307   shop3      be      10315       boni s. fruitcockt.lichte sir. blik\n",
      "1390  shop4      be      10315  boni s. fruitcockt.lichte sir. blik 227g\n",
      "\n",
      "Example 2.3.3: \n",
      "       shop country product_id                  name\n",
      "249   shop4      be      10288  aardappelsalade 500g\n",
      "1445  shop4      be      29189  aardappelsalade 500g\n",
      "\n",
      "Example 2.3.4: \n",
      "       shop country product_id      name\n",
      "585   shop1      nl       1131  advocaat\n",
      "1848  shop1      be       4237  advocaat\n"
     ]
    }
   ],
   "source": [
    "shops = product_tab.shop.sort_values().unique()\n",
    "shop_assortment = product_tab[['shop', 'country', 'product_id', 'name']].copy().drop_duplicates(keep='first')\n",
    "\n",
    "## Find examples of duplicate product_ids: \n",
    "duplicate_product_id = pd.concat(g for _, g in shop_assortment.groupby(\"product_id\") if len(g) > 1)\n",
    "duplicate_names = pd.concat(g for _, g in shop_assortment.groupby(\"name\") if len(g) > 1)\n",
    "\n",
    "print('\\nExample 2.3.1: ')\n",
    "print(duplicate_product_id[duplicate_product_id.product_id == '1270'])\n",
    "\n",
    "print('\\nExample 2.3.2: ')\n",
    "print(duplicate_product_id[duplicate_product_id.product_id == '10315'])\n",
    "\n",
    "print('\\nExample 2.3.3: ')\n",
    "print(duplicate_names[duplicate_names.name == 'aardappelsalade 500g'])\n",
    "\n",
    "print('\\nExample 2.3.4: ')\n",
    "print(duplicate_names[duplicate_names.name == 'advocaat'])"
   ]
  },
  {
   "cell_type": "code",
   "execution_count": 18,
   "metadata": {},
   "outputs": [
    {
     "name": "stdout",
     "output_type": "stream",
     "text": [
      "Product Table - shop1:\n",
      "   COUNT(DISTINCT daltix_id)\n",
      "0                       2010\n",
      "Product Table - shop2:\n",
      "   COUNT(DISTINCT daltix_id)\n",
      "0                          6\n",
      "Product Table - shop3:\n",
      "   COUNT(DISTINCT daltix_id)\n",
      "0                        807\n",
      "Product Table - shop4:\n",
      "   COUNT(DISTINCT daltix_id)\n",
      "0                       1369\n"
     ]
    }
   ],
   "source": [
    "## USING PANDASQL: \n",
    "\n",
    "    ## Shop1:\n",
    "q_products_shop1 = \"\"\"\n",
    "SELECT COUNT(DISTINCT daltix_id)\n",
    "FROM product_tab\n",
    "WHERE shop ='shop1';\n",
    "\"\"\"\n",
    "print('Product Table - shop1:\\n' + str(pysqldf(q_products_shop1)))\n",
    "\n",
    "    ## Shop2:\n",
    "q_products_shop2 = \"\"\"\n",
    "SELECT COUNT(DISTINCT daltix_id)\n",
    "FROM product_tab\n",
    "WHERE shop ='shop2';\n",
    "\"\"\"\n",
    "print('Product Table - shop2:\\n' + str(pysqldf(q_products_shop2)))\n",
    "\n",
    "    ## Shop3:\n",
    "q_products_shop3 = \"\"\"\n",
    "SELECT COUNT(DISTINCT daltix_id)\n",
    "FROM product_tab\n",
    "WHERE shop ='shop3';\n",
    "\"\"\"\n",
    "print('Product Table - shop3:\\n' + str(pysqldf(q_products_shop3)))\n",
    "\n",
    "    ## Shop4:\n",
    "q_products_shop4 = \"\"\"\n",
    "SELECT COUNT(DISTINCT daltix_id)\n",
    "FROM product_tab\n",
    "WHERE shop ='shop4';\n",
    "\"\"\"\n",
    "print('Product Table - shop4:\\n' + str(pysqldf(q_products_shop4)))"
   ]
  },
  {
   "cell_type": "markdown",
   "metadata": {},
   "source": [
    "### 2.4 - Can a product have more than 1 active promotion at the same time?\n",
    "\n",
    "- YES. A product from a specific shop can have different promotions at different locations and at the same location! (e.g.2.4.1)"
   ]
  },
  {
   "cell_type": "code",
   "execution_count": 19,
   "metadata": {},
   "outputs": [
    {
     "name": "stdout",
     "output_type": "stream",
     "text": [
      "Maximum number of simultaneous promotions:\n",
      "promo_nr    2\n",
      "dtype: int64\n"
     ]
    }
   ],
   "source": [
    "## USING PANDASQL:\n",
    "\n",
    "# Item simultaneous promotions at a specific shop at a specific location:\n",
    "q_simultaneous_promos = \"\"\"\n",
    "SELECT COUNT (DISTINCT promo_type) AS promo_nr\n",
    "FROM promo_tab\n",
    "GROUP BY daltix_id, date, shop, location\n",
    "ORDER BY promo_nr DESC;\n",
    "\"\"\"\n",
    "\n",
    "print('Maximum number of simultaneous promotions:')\n",
    "print(pysqldf(q_simultaneous_promos).max())"
   ]
  },
  {
   "cell_type": "code",
   "execution_count": 20,
   "metadata": {},
   "outputs": [
    {
     "name": "stdout",
     "output_type": "stream",
     "text": [
      "[1 2 4]\n",
      "Example 2.4.1:\n"
     ]
    },
    {
     "data": {
      "text/html": [
       "<div>\n",
       "<style scoped>\n",
       "    .dataframe tbody tr th:only-of-type {\n",
       "        vertical-align: middle;\n",
       "    }\n",
       "\n",
       "    .dataframe tbody tr th {\n",
       "        vertical-align: top;\n",
       "    }\n",
       "\n",
       "    .dataframe thead th {\n",
       "        text-align: right;\n",
       "    }\n",
       "</style>\n",
       "<table border=\"1\" class=\"dataframe\">\n",
       "  <thead>\n",
       "    <tr style=\"text-align: right;\">\n",
       "      <th></th>\n",
       "      <th>daltix_id</th>\n",
       "      <th>shop</th>\n",
       "      <th>country</th>\n",
       "      <th>location</th>\n",
       "      <th>promo_type</th>\n",
       "      <th>dlevel</th>\n",
       "      <th>date</th>\n",
       "      <th>daltix_id_date</th>\n",
       "    </tr>\n",
       "  </thead>\n",
       "  <tbody>\n",
       "    <tr>\n",
       "      <td>1279</td>\n",
       "      <td>f2e5afe8ce05318fd548adb4bd96eb783e1b85b0e6d682...</td>\n",
       "      <td>shop3</td>\n",
       "      <td>be</td>\n",
       "      <td>ledeberg</td>\n",
       "      <td>Price cut with Multibuy Condition</td>\n",
       "      <td>0.357143</td>\n",
       "      <td>2019-08-27</td>\n",
       "      <td>f2e5afe8ce05318fd548adb4bd96eb783e1b85b0e6d682...</td>\n",
       "    </tr>\n",
       "    <tr>\n",
       "      <td>2617</td>\n",
       "      <td>f2e5afe8ce05318fd548adb4bd96eb783e1b85b0e6d682...</td>\n",
       "      <td>shop3</td>\n",
       "      <td>be</td>\n",
       "      <td>ans</td>\n",
       "      <td>Price cut with Multibuy Condition</td>\n",
       "      <td>0.251256</td>\n",
       "      <td>2019-08-27</td>\n",
       "      <td>f2e5afe8ce05318fd548adb4bd96eb783e1b85b0e6d682...</td>\n",
       "    </tr>\n",
       "    <tr>\n",
       "      <td>2844</td>\n",
       "      <td>f2e5afe8ce05318fd548adb4bd96eb783e1b85b0e6d682...</td>\n",
       "      <td>shop3</td>\n",
       "      <td>be</td>\n",
       "      <td>ledeberg</td>\n",
       "      <td>Price cut</td>\n",
       "      <td>0.714286</td>\n",
       "      <td>2019-08-27</td>\n",
       "      <td>f2e5afe8ce05318fd548adb4bd96eb783e1b85b0e6d682...</td>\n",
       "    </tr>\n",
       "    <tr>\n",
       "      <td>4177</td>\n",
       "      <td>f2e5afe8ce05318fd548adb4bd96eb783e1b85b0e6d682...</td>\n",
       "      <td>shop3</td>\n",
       "      <td>be</td>\n",
       "      <td>ans</td>\n",
       "      <td>Price cut</td>\n",
       "      <td>0.502513</td>\n",
       "      <td>2019-08-27</td>\n",
       "      <td>f2e5afe8ce05318fd548adb4bd96eb783e1b85b0e6d682...</td>\n",
       "    </tr>\n",
       "  </tbody>\n",
       "</table>\n",
       "</div>"
      ],
      "text/plain": [
       "                                              daltix_id   shop country  \\\n",
       "1279  f2e5afe8ce05318fd548adb4bd96eb783e1b85b0e6d682...  shop3      be   \n",
       "2617  f2e5afe8ce05318fd548adb4bd96eb783e1b85b0e6d682...  shop3      be   \n",
       "2844  f2e5afe8ce05318fd548adb4bd96eb783e1b85b0e6d682...  shop3      be   \n",
       "4177  f2e5afe8ce05318fd548adb4bd96eb783e1b85b0e6d682...  shop3      be   \n",
       "\n",
       "      location                         promo_type    dlevel        date  \\\n",
       "1279  ledeberg  Price cut with Multibuy Condition  0.357143  2019-08-27   \n",
       "2617       ans  Price cut with Multibuy Condition  0.251256  2019-08-27   \n",
       "2844  ledeberg                          Price cut  0.714286  2019-08-27   \n",
       "4177       ans                          Price cut  0.502513  2019-08-27   \n",
       "\n",
       "                                         daltix_id_date  \n",
       "1279  f2e5afe8ce05318fd548adb4bd96eb783e1b85b0e6d682...  \n",
       "2617  f2e5afe8ce05318fd548adb4bd96eb783e1b85b0e6d682...  \n",
       "2844  f2e5afe8ce05318fd548adb4bd96eb783e1b85b0e6d682...  \n",
       "4177  f2e5afe8ce05318fd548adb4bd96eb783e1b85b0e6d682...  "
      ]
     },
     "execution_count": 20,
     "metadata": {},
     "output_type": "execute_result"
    }
   ],
   "source": [
    "## Extra Check 1 USING PANDAS:\n",
    "\n",
    "promo_tab_2 = promo_tab.copy()\n",
    "\n",
    "# Product simultaneous promos: a new field is required (daltix_id + date)\n",
    "promo_tab_2['daltix_id_date'] = promo_tab_2['daltix_id'] + '_' + promo_tab_2['date']\n",
    "simultaneous_promo = promo_tab_2.groupby('daltix_id_date')['promo_type'].count().to_frame('nr_promos').reset_index()\n",
    "print(simultaneous_promo.nr_promos.unique())\n",
    "simultaneous_promo_ids = list(simultaneous_promo.daltix_id_date[simultaneous_promo.nr_promos == 4])\n",
    "\n",
    "# This reflects different types of promotions with different dlevels, at different location:\n",
    "print('Example 2.4.1:')\n",
    "promo_tab_2[promo_tab_2['daltix_id_date'].isin(simultaneous_promo_ids[0:1])].sort_values(by='date')"
   ]
  },
  {
   "cell_type": "markdown",
   "metadata": {},
   "source": [
    "##### 2.4 - Main Issues Detected\n",
    "\n",
    "- Rounding of the variable 'dlevel' issue (e.g.2.4.2)\n",
    "\n",
    "(see code below)"
   ]
  },
  {
   "cell_type": "code",
   "execution_count": 21,
   "metadata": {},
   "outputs": [
    {
     "name": "stdout",
     "output_type": "stream",
     "text": [
      "[1 2]\n",
      "Example 2.4.2:\n"
     ]
    },
    {
     "data": {
      "text/html": [
       "<div>\n",
       "<style scoped>\n",
       "    .dataframe tbody tr th:only-of-type {\n",
       "        vertical-align: middle;\n",
       "    }\n",
       "\n",
       "    .dataframe tbody tr th {\n",
       "        vertical-align: top;\n",
       "    }\n",
       "\n",
       "    .dataframe thead th {\n",
       "        text-align: right;\n",
       "    }\n",
       "</style>\n",
       "<table border=\"1\" class=\"dataframe\">\n",
       "  <thead>\n",
       "    <tr style=\"text-align: right;\">\n",
       "      <th></th>\n",
       "      <th>daltix_id</th>\n",
       "      <th>shop</th>\n",
       "      <th>country</th>\n",
       "      <th>location</th>\n",
       "      <th>promo_type</th>\n",
       "      <th>dlevel</th>\n",
       "      <th>date</th>\n",
       "      <th>daltix_id_date</th>\n",
       "      <th>daltix_id_date_shop_location</th>\n",
       "    </tr>\n",
       "  </thead>\n",
       "  <tbody>\n",
       "    <tr>\n",
       "      <td>1964</td>\n",
       "      <td>5be2f8a50a96c70e003b80e3d2b80e4209fa5cf57b0843...</td>\n",
       "      <td>shop2</td>\n",
       "      <td>be</td>\n",
       "      <td>base</td>\n",
       "      <td>Price cut with Multibuy Condition</td>\n",
       "      <td>0.333333</td>\n",
       "      <td>2019-09-12</td>\n",
       "      <td>5be2f8a50a96c70e003b80e3d2b80e4209fa5cf57b0843...</td>\n",
       "      <td>5be2f8a50a96c70e003b80e3d2b80e4209fa5cf57b0843...</td>\n",
       "    </tr>\n",
       "    <tr>\n",
       "      <td>4014</td>\n",
       "      <td>5be2f8a50a96c70e003b80e3d2b80e4209fa5cf57b0843...</td>\n",
       "      <td>shop2</td>\n",
       "      <td>be</td>\n",
       "      <td>base</td>\n",
       "      <td>Price cut with Multibuy Condition</td>\n",
       "      <td>0.330000</td>\n",
       "      <td>2019-09-12</td>\n",
       "      <td>5be2f8a50a96c70e003b80e3d2b80e4209fa5cf57b0843...</td>\n",
       "      <td>5be2f8a50a96c70e003b80e3d2b80e4209fa5cf57b0843...</td>\n",
       "    </tr>\n",
       "  </tbody>\n",
       "</table>\n",
       "</div>"
      ],
      "text/plain": [
       "                                              daltix_id   shop country  \\\n",
       "1964  5be2f8a50a96c70e003b80e3d2b80e4209fa5cf57b0843...  shop2      be   \n",
       "4014  5be2f8a50a96c70e003b80e3d2b80e4209fa5cf57b0843...  shop2      be   \n",
       "\n",
       "     location                         promo_type    dlevel        date  \\\n",
       "1964     base  Price cut with Multibuy Condition  0.333333  2019-09-12   \n",
       "4014     base  Price cut with Multibuy Condition  0.330000  2019-09-12   \n",
       "\n",
       "                                         daltix_id_date  \\\n",
       "1964  5be2f8a50a96c70e003b80e3d2b80e4209fa5cf57b0843...   \n",
       "4014  5be2f8a50a96c70e003b80e3d2b80e4209fa5cf57b0843...   \n",
       "\n",
       "                           daltix_id_date_shop_location  \n",
       "1964  5be2f8a50a96c70e003b80e3d2b80e4209fa5cf57b0843...  \n",
       "4014  5be2f8a50a96c70e003b80e3d2b80e4209fa5cf57b0843...  "
      ]
     },
     "execution_count": 21,
     "metadata": {},
     "output_type": "execute_result"
    }
   ],
   "source": [
    "## Extra Check 2 USING PANDAS:\n",
    "\n",
    "# Product simultaneous promos at a specific shop at a specific location:\n",
    "promo_tab_2['daltix_id_date_shop_location'] = promo_tab_2['daltix_id'] + '_' + promo_tab_2['date'] + '_' + promo_tab_2['shop'] + '_' + promo_tab_2['location']\n",
    "simultaneous_promo = promo_tab_2.groupby('daltix_id_date_shop_location')['promo_type'].count().to_frame('nr_promos').reset_index()\n",
    "print(simultaneous_promo.nr_promos.unique())\n",
    "simultaneous_promo_ids = list(simultaneous_promo.daltix_id_date_shop_location[simultaneous_promo.nr_promos == 2])\n",
    "\n",
    "# This reflects different types of promotions:\n",
    "promo_tab_2[promo_tab_2['daltix_id_date_shop_location'].isin(simultaneous_promo_ids[35:36])].sort_values(by='date')\n",
    "\n",
    "# This reflects round(dlevel) issue:\n",
    "print('Example 2.4.2:')\n",
    "promo_tab_2[promo_tab_2['daltix_id_date_shop_location'].isin(simultaneous_promo_ids[0:1])].sort_values(by='date')"
   ]
  },
  {
   "cell_type": "code",
   "execution_count": 22,
   "metadata": {},
   "outputs": [],
   "source": [
    "## Round discount level:\n",
    "promo_tab.dlevel = promo_tab.dlevel.round(2)\n",
    "\n",
    "## Eliminate duplicate rows:\n",
    "promo_tab = promo_tab.drop_duplicates(keep='first')"
   ]
  },
  {
   "cell_type": "markdown",
   "metadata": {},
   "source": [
    "___________________________\n",
    "## 3 Transformation & Manipulation\n",
    "\n",
    "__Description__\n",
    "\n",
    "In this section you should use the tables provided in the dataset and manipulate them to find valuable business insights.\n",
    "\n",
    "Some questions you should be able to answer:\n",
    "* Which shops have a bigger overlap in their assortment?\n",
    "* Which shop has the overall cheapest assortment? What about cheapest categories?\n",
    "* Which shop is the \"_king_\" of promotions?\n",
    "* Where would you do your shopping? When? Why?\n",
    "* Can you spot any weird price behaviour? \n",
    "\n",
    "The questions above are just some example questions. You should provide any insights you find useful/relevant.\n",
    "\n",
    "_Note:_\n",
    "* Use this section as a prepation for the next!"
   ]
  },
  {
   "cell_type": "markdown",
   "metadata": {},
   "source": [
    "### 3.1 - Which shops have a bigger overlap in their assortment?\n",
    "\n",
    "- Shops 3 and 4"
   ]
  },
  {
   "cell_type": "code",
   "execution_count": 23,
   "metadata": {},
   "outputs": [],
   "source": [
    "## Create new table to find assortment Overlap:\n",
    "shop_assortment = product_tab[['shop', 'country', 'product_id', 'name']].copy().drop_duplicates(keep='first')"
   ]
  },
  {
   "cell_type": "markdown",
   "metadata": {},
   "source": [
    "##### Main Issues Detected\n",
    "\n",
    "- There are several articles in the same shop and location with different product_id (e.g.3.1.1).\n",
    "    - They might be the same product or not."
   ]
  },
  {
   "cell_type": "code",
   "execution_count": 24,
   "metadata": {},
   "outputs": [
    {
     "name": "stdout",
     "output_type": "stream",
     "text": [
      "Example 3.1.1:\n"
     ]
    },
    {
     "data": {
      "text/html": [
       "<div>\n",
       "<style scoped>\n",
       "    .dataframe tbody tr th:only-of-type {\n",
       "        vertical-align: middle;\n",
       "    }\n",
       "\n",
       "    .dataframe tbody tr th {\n",
       "        vertical-align: top;\n",
       "    }\n",
       "\n",
       "    .dataframe thead th {\n",
       "        text-align: right;\n",
       "    }\n",
       "</style>\n",
       "<table border=\"1\" class=\"dataframe\">\n",
       "  <thead>\n",
       "    <tr style=\"text-align: right;\">\n",
       "      <th></th>\n",
       "      <th>shop</th>\n",
       "      <th>country</th>\n",
       "      <th>product_id</th>\n",
       "      <th>name</th>\n",
       "    </tr>\n",
       "  </thead>\n",
       "  <tbody>\n",
       "    <tr>\n",
       "      <td>2609</td>\n",
       "      <td>shop1</td>\n",
       "      <td>be</td>\n",
       "      <td>5567</td>\n",
       "      <td>olijven</td>\n",
       "    </tr>\n",
       "    <tr>\n",
       "      <td>3331</td>\n",
       "      <td>shop1</td>\n",
       "      <td>nl</td>\n",
       "      <td>7218</td>\n",
       "      <td>olijven</td>\n",
       "    </tr>\n",
       "    <tr>\n",
       "      <td>3927</td>\n",
       "      <td>shop1</td>\n",
       "      <td>be</td>\n",
       "      <td>4375</td>\n",
       "      <td>olijven</td>\n",
       "    </tr>\n",
       "    <tr>\n",
       "      <td>1317</td>\n",
       "      <td>shop1</td>\n",
       "      <td>be</td>\n",
       "      <td>7840</td>\n",
       "      <td>zitbank met opbergruimte</td>\n",
       "    </tr>\n",
       "    <tr>\n",
       "      <td>3531</td>\n",
       "      <td>shop1</td>\n",
       "      <td>be</td>\n",
       "      <td>6116</td>\n",
       "      <td>zitbank met opbergruimte</td>\n",
       "    </tr>\n",
       "  </tbody>\n",
       "</table>\n",
       "</div>"
      ],
      "text/plain": [
       "       shop country product_id                      name\n",
       "2609  shop1      be       5567                   olijven\n",
       "3331  shop1      nl       7218                   olijven\n",
       "3927  shop1      be       4375                   olijven\n",
       "1317  shop1      be       7840  zitbank met opbergruimte\n",
       "3531  shop1      be       6116  zitbank met opbergruimte"
      ]
     },
     "execution_count": 24,
     "metadata": {},
     "output_type": "execute_result"
    }
   ],
   "source": [
    "print('Example 3.1.1:')\n",
    "shop_assortment[shop_assortment.name.isin(['olijven', 'zitbank met opbergruimte'])].sort_values(by='name')"
   ]
  },
  {
   "cell_type": "markdown",
   "metadata": {},
   "source": [
    "- Some products from different shops might be the same but are not identified in the same way (e.g.3.1.2)."
   ]
  },
  {
   "cell_type": "code",
   "execution_count": 25,
   "metadata": {},
   "outputs": [
    {
     "name": "stdout",
     "output_type": "stream",
     "text": [
      "Example 3.1.2:\n"
     ]
    },
    {
     "data": {
      "text/html": [
       "<div>\n",
       "<style scoped>\n",
       "    .dataframe tbody tr th:only-of-type {\n",
       "        vertical-align: middle;\n",
       "    }\n",
       "\n",
       "    .dataframe tbody tr th {\n",
       "        vertical-align: top;\n",
       "    }\n",
       "\n",
       "    .dataframe thead th {\n",
       "        text-align: right;\n",
       "    }\n",
       "</style>\n",
       "<table border=\"1\" class=\"dataframe\">\n",
       "  <thead>\n",
       "    <tr style=\"text-align: right;\">\n",
       "      <th></th>\n",
       "      <th>shop</th>\n",
       "      <th>country</th>\n",
       "      <th>product_id</th>\n",
       "      <th>name</th>\n",
       "    </tr>\n",
       "  </thead>\n",
       "  <tbody>\n",
       "    <tr>\n",
       "      <td>2581</td>\n",
       "      <td>shop3</td>\n",
       "      <td>be</td>\n",
       "      <td>3570000</td>\n",
       "      <td>corblokken houtblokken 11dm¿</td>\n",
       "    </tr>\n",
       "    <tr>\n",
       "      <td>2978</td>\n",
       "      <td>shop4</td>\n",
       "      <td>be</td>\n",
       "      <td>15912</td>\n",
       "      <td>corblokken houtblokken 11dm¿ 8kg</td>\n",
       "    </tr>\n",
       "    <tr>\n",
       "      <td>793</td>\n",
       "      <td>shop3</td>\n",
       "      <td>be</td>\n",
       "      <td>3283575</td>\n",
       "      <td>devos lemmens bbq td</td>\n",
       "    </tr>\n",
       "    <tr>\n",
       "      <td>3544</td>\n",
       "      <td>shop4</td>\n",
       "      <td>be</td>\n",
       "      <td>8179</td>\n",
       "      <td>devos lemmens bbq td 300ml</td>\n",
       "    </tr>\n",
       "  </tbody>\n",
       "</table>\n",
       "</div>"
      ],
      "text/plain": [
       "       shop country product_id                              name\n",
       "2581  shop3      be    3570000      corblokken houtblokken 11dm¿\n",
       "2978  shop4      be      15912  corblokken houtblokken 11dm¿ 8kg\n",
       "793   shop3      be    3283575              devos lemmens bbq td\n",
       "3544  shop4      be       8179        devos lemmens bbq td 300ml"
      ]
     },
     "execution_count": 25,
     "metadata": {},
     "output_type": "execute_result"
    }
   ],
   "source": [
    "print('Example 3.1.2:')\n",
    "shop_assortment[(shop_assortment.name.str.contains('corblokken houtblokken')) |\n",
    "                (shop_assortment.name.str.contains('lemmens bbq td'))].sort_values(by='name')"
   ]
  },
  {
   "cell_type": "markdown",
   "metadata": {},
   "source": [
    "##### Assumptions\n",
    "\n",
    "- Products from the same shop with different 'product_ids' will be considered the same (no matter the country). These column will not be used.\n",
    "\n",
    "- Products from different shops with similar names will be regarded as different."
   ]
  },
  {
   "cell_type": "code",
   "execution_count": 26,
   "metadata": {},
   "outputs": [
    {
     "name": "stdout",
     "output_type": "stream",
     "text": [
      "Shops 1 and 2 have 0 common items.\n",
      "Shops 1 and 3 have 6 common items.\n",
      "Shops 1 and 4 have 2 common items.\n",
      "Shops 2 and 3 have 0 common items.\n",
      "Shops 2 and 4 have 0 common items.\n",
      "Shops 3 and 4 have 69 common items.\n"
     ]
    },
    {
     "data": {
      "image/png": "[encoded data removed]",
      "text/plain": [
       "<Figure size 720x2880 with 3 Axes>"
      ]
     },
     "metadata": {},
     "output_type": "display_data"
    }
   ],
   "source": [
    "## Assortment Overlap between each shop:\n",
    "shop_assortment = shop_assortment[['shop', 'name']].copy().drop_duplicates(keep='first')\n",
    "\n",
    "assortment_overlap_12 = shop_assortment[shop_assortment.shop.isin(['shop1', 'shop2'])].sort_values(by='name')\n",
    "assortment_overlap_13 = shop_assortment[shop_assortment.shop.isin(['shop1', 'shop3'])].sort_values(by='name')\n",
    "assortment_overlap_14 = shop_assortment[shop_assortment.shop.isin(['shop1', 'shop4'])].sort_values(by='name')\n",
    "assortment_overlap_23 = shop_assortment[shop_assortment.shop.isin(['shop2', 'shop3'])].sort_values(by='name')\n",
    "assortment_overlap_24 = shop_assortment[shop_assortment.shop.isin(['shop2', 'shop4'])].sort_values(by='name')\n",
    "assortment_overlap_34 = shop_assortment[shop_assortment.shop.isin(['shop3', 'shop4'])].sort_values(by='name')\n",
    "\n",
    "print('Shops 1 and 2 have ' + str(len(assortment_overlap_12.name) - len(assortment_overlap_12.name.unique())) + ' common items.')\n",
    "print('Shops 1 and 3 have ' + str(len(assortment_overlap_13.name) - len(assortment_overlap_13.name.unique())) + ' common items.')\n",
    "print('Shops 1 and 4 have ' + str(len(assortment_overlap_14.name) - len(assortment_overlap_14.name.unique())) + ' common items.')\n",
    "print('Shops 2 and 3 have ' + str(len(assortment_overlap_23.name) - len(assortment_overlap_23.name.unique())) + ' common items.')\n",
    "print('Shops 2 and 4 have ' + str(len(assortment_overlap_24.name) - len(assortment_overlap_24.name.unique())) + ' common items.')\n",
    "print('Shops 3 and 4 have ' + str(len(assortment_overlap_34.name) - len(assortment_overlap_34.name.unique())) + ' common items.')\n",
    "\n",
    "## Assortment Overlap between 1 and 3:\n",
    "assortment_overlap_13 = shop_assortment[shop_assortment.shop.isin(['shop1', 'shop3'])].sort_values(by='name')\n",
    "\n",
    "for name in assortment_overlap_13.name.unique():\n",
    "    if len(assortment_overlap_13[assortment_overlap_13.name == name]) > 1:\n",
    "        assortment_overlap_13.shop[assortment_overlap_13.name == name] = 'shop1_&_shop3'\n",
    "\n",
    "assortment_overlap_13 = assortment_overlap_13.drop_duplicates(keep='first')\n",
    "overlap13 = assortment_overlap_13.groupby(['shop'])['name'].count().to_frame('name_count').reset_index()\n",
    "\n",
    "## Assortment Overlap between 1 and 4:\n",
    "assortment_overlap_14 = shop_assortment[shop_assortment.shop.isin(['shop1', 'shop4'])].sort_values(by='name')\n",
    "\n",
    "for name in assortment_overlap_14.name.unique():\n",
    "    if len(assortment_overlap_14[assortment_overlap_14.name == name]) > 1:\n",
    "        assortment_overlap_14.shop[assortment_overlap_14.name == name] = 'shop1_&_shop4'\n",
    "\n",
    "assortment_overlap_14 = assortment_overlap_14.drop_duplicates(keep='first')\n",
    "overlap14 = assortment_overlap_14.groupby(['shop'])['name'].count().to_frame('name_count').reset_index()\n",
    "\n",
    "## Assortment Overlap between 3 and 4:\n",
    "assortment_overlap_34 = shop_assortment[shop_assortment.shop.isin(['shop3', 'shop4'])].sort_values(by='name')\n",
    "\n",
    "for name in assortment_overlap_34.name.unique():\n",
    "    if len(assortment_overlap_34[assortment_overlap_34.name == name]) > 1:\n",
    "        assortment_overlap_34.shop[assortment_overlap_34.name == name] = 'shop3_&_shop4'\n",
    "\n",
    "assortment_overlap_34 = assortment_overlap_34.drop_duplicates(keep='first')\n",
    "overlap34 = assortment_overlap_34.groupby(['shop'])['name'].count().to_frame('name_count').reset_index()\n",
    "\n",
    "## Plot Assortment Overlaps:\n",
    "colors13 = ['darkslategrey','black','lightseagreen']\n",
    "colors14 = ['darkslategrey','black', 'darkviolet']\n",
    "colors34 = ['lightseagreen','black','darkviolet']\n",
    "fig_assortment_overlap, (ax13, ax14, ax34) = plt.subplots(1,3, figsize=(10,40))\n",
    "plt.subplots_adjust(wspace=0.5)\n",
    "ax13.pie(overlap13.name_count, labels=overlap13.shop, colors=colors13)\n",
    "ax14.pie(overlap14.name_count, labels=overlap14.shop, colors=colors14)\n",
    "ax34.pie(overlap34.name_count, labels=overlap34.shop, colors=colors34)\n",
    "plt.show()"
   ]
  },
  {
   "cell_type": "markdown",
   "metadata": {},
   "source": [
    "### 3.2 - Which shop has the overall cheapest assortment?\n",
    "\n",
    "- Cost of assortment: shop1 < shop3 < shop4 < shop2."
   ]
  },
  {
   "cell_type": "code",
   "execution_count": 27,
   "metadata": {},
   "outputs": [
    {
     "data": {
      "text/html": [
       "<div>\n",
       "<style scoped>\n",
       "    .dataframe tbody tr th:only-of-type {\n",
       "        vertical-align: middle;\n",
       "    }\n",
       "\n",
       "    .dataframe tbody tr th {\n",
       "        vertical-align: top;\n",
       "    }\n",
       "\n",
       "    .dataframe thead th {\n",
       "        text-align: right;\n",
       "    }\n",
       "</style>\n",
       "<table border=\"1\" class=\"dataframe\">\n",
       "  <thead>\n",
       "    <tr style=\"text-align: right;\">\n",
       "      <th></th>\n",
       "      <th>shop</th>\n",
       "      <th>assortment_price_avg</th>\n",
       "    </tr>\n",
       "  </thead>\n",
       "  <tbody>\n",
       "    <tr>\n",
       "      <td>0</td>\n",
       "      <td>shop1</td>\n",
       "      <td>7.075549</td>\n",
       "    </tr>\n",
       "    <tr>\n",
       "      <td>1</td>\n",
       "      <td>shop2</td>\n",
       "      <td>20.774783</td>\n",
       "    </tr>\n",
       "    <tr>\n",
       "      <td>2</td>\n",
       "      <td>shop3</td>\n",
       "      <td>10.080059</td>\n",
       "    </tr>\n",
       "    <tr>\n",
       "      <td>3</td>\n",
       "      <td>shop4</td>\n",
       "      <td>12.365223</td>\n",
       "    </tr>\n",
       "  </tbody>\n",
       "</table>\n",
       "</div>"
      ],
      "text/plain": [
       "    shop  assortment_price_avg\n",
       "0  shop1              7.075549\n",
       "1  shop2             20.774783\n",
       "2  shop3             10.080059\n",
       "3  shop4             12.365223"
      ]
     },
     "execution_count": 27,
     "metadata": {},
     "output_type": "execute_result"
    }
   ],
   "source": [
    "## Find cheapest Assortment (only unique prices per daltix_id are required:\n",
    "cheapest_assortment_tab = price_tab_outliersfree[['daltix_id', 'shop', 'price']].copy().drop_duplicates(keep='first')\n",
    "\n",
    "cheapest_assortment = cheapest_assortment_tab.groupby('shop')['price'].mean().to_frame('assortment_price_avg').reset_index()\n",
    "cheapest_assortment"
   ]
  },
  {
   "cell_type": "markdown",
   "metadata": {},
   "source": [
    "### 3.3 - Which shop has the overall cheapest categories?\n",
    "\n",
    "Owner Note: In section 1.3 all data from shop1 was excluded from the category table, as all categories mentioned were related to promotions and not products. This shop is excluded from this analysis.\n",
    "\n",
    "- Cheapest Categories:\n",
    "    - 1º) conserven en soepen (category_price_avg: 4.07€)\n",
    "        - shop3      \n",
    "    - 2ª) kruidenierswaren/droge voeding (category_price_avg: 4.44€)\n",
    "        - shop4 and shop3 (category_price_avg of shop4 is lower)\n",
    "    - 3º) groenten en fruit (category_price_avg: 4.44€)\n",
    "        - shop4 and shop3 (category_price_avg of shop4 is lower)\n",
    "    \n",
    "    \n",
    "- Most Expensive Categories:\n",
    "    - 1º) lichaamsverzorging/parfumerie (category_price_avg: 28.01€)\n",
    "        - shop4 and shop3 (category_price_avg of shop4 is higher)\n",
    "    - 2ª) colruyt-beenhouwerij (category_price_avg: 10.89€)\n",
    "        - shop4 and shop3 (category_price_avg of shop4 is higher) \n",
    "    - 3º) dieetvoeding/voedingssupplementen (category_price_avg: 10.66€)\n",
    "        - shop4 and shop3 (category_price_avg of shop4 is higher)\n",
    "\n",
    "    \n",
    "- Issues found:\n",
    "    - Ex: There are products that cost too much fo the category they're at. Ex: in the groenten en fruit category there is a product that cost > 100€. This is strange."
   ]
  },
  {
   "cell_type": "code",
   "execution_count": 28,
   "metadata": {},
   "outputs": [
    {
     "name": "stdout",
     "output_type": "stream",
     "text": [
      "\n",
      "Cheapest Categories:                      main_category  category_price_avg\n",
      "8              conserven en soepen            4.070286\n",
      "12               groenten en fruit            4.351534\n",
      "16  kruidenierswaren/droge voeding            4.413653\n",
      "\n",
      "Most expensive Categories:                         main_category  category_price_avg\n",
      "9   dieetvoeding/voedingssupplementen           10.660238\n",
      "6                colruyt-beenhouwerij           10.851369\n",
      "17      lichaamsverzorging/parfumerie           28.101429\n"
     ]
    },
    {
     "data": {
      "image/png": "[encoded data removed]",
      "text/plain": [
       "<Figure size 864x360 with 1 Axes>"
      ]
     },
     "metadata": {
      "needs_background": "light"
     },
     "output_type": "display_data"
    }
   ],
   "source": [
    "## Merge price and category tables:\n",
    "categoryprice_tab = pd.merge(category_tab, price_tab_outliersfree, how='inner', on=['daltix_id', 'shop', 'country'])\n",
    "\n",
    "## Select columns of interest ('daltix_id','shop','main_category','price') to drop price duplicates (which occur for each date):\n",
    "categoryprice_tab_2 = categoryprice_tab[['daltix_id','shop','main_category','price','price_entries','nr_prices']].copy().drop_duplicates(keep='first')\n",
    "\n",
    "## Determine average cost of products in each 'main_category' (all shop prices included):\n",
    "cheapest_categories = categoryprice_tab_2.groupby(['main_category'])['price'].mean().to_frame('category_price_avg').reset_index()\n",
    "print('Cheapest categories: ')\n",
    "print(str(cheapest_categories.sort_values(by='category_price_avg')[:3]))\n",
    "print('Most expensive categories: ')\n",
    "print(str(cheapest_categories.sort_values(by='category_price_avg')[-3:]))\n",
    "\n",
    "categories = cheapest_categories.main_category.sort_values().unique()\n",
    "\n",
    "## Plot avg. category price per shop:\n",
    "loc = range(len(categories))\n",
    "labels = categories\n",
    "fig_category_avgprice, ax = plt.subplots(figsize=(12,5))\n",
    "cheapest_categories.plot.bar(ax=ax, x='main_category', y='category_price_avg', alpha=1, title='Avg. category price per shop', width=0.8)\n",
    "plt.xticks(loc, labels, rotation=45, horizontalalignment='right')\n",
    "plt.show()\n",
    "\n",
    "## Extra check - See most expensive products \n",
    "#categoryprice_tab_2[categoryprice_tab_2.price > 100]"
   ]
  },
  {
   "cell_type": "code",
   "execution_count": 29,
   "metadata": {},
   "outputs": [
    {
     "data": {
      "image/png": "[encoded data removed]",
      "text/plain": [
       "<Figure size 864x360 with 1 Axes>"
      ]
     },
     "metadata": {
      "needs_background": "light"
     },
     "output_type": "display_data"
    }
   ],
   "source": [
    "## Determine average cost of products in each 'main_category' per shop:\n",
    "cheapest_categories_pershop = categoryprice_tab_2.groupby(['shop', 'main_category'])['price'].mean().to_frame('category_price_avg').reset_index()\n",
    "cheapest_categories_pershop.sort_values(by='category_price_avg')\n",
    "\n",
    "## Plot average category prices per shop:\n",
    "categories = cheapest_categories_pershop.main_category.sort_values().unique()\n",
    "\n",
    "## Plot avg. category price per shop:\n",
    "loc = range(len(categories))\n",
    "labels = categories\n",
    "colors234 = ['violet','lightseagreen', 'darkviolet']\n",
    "fig_category_price, ax = plt.subplots(figsize=(12,5))\n",
    "#cheapest_categories_pershop.groupby(['main_category','shop']).sum()['category_price_avg'].unstack().plot(ax=ax, alpha=1, marker='o', title='Avg. category price per shop', colors=colors234)\n",
    "cheapest_categories_pershop.groupby(['main_category','shop']).sum()['category_price_avg'].unstack().plot.bar(ax=ax, alpha=1, title='Avg. category price per shop', color=colors234, width=0.8)\n",
    "plt.xticks(loc, labels, rotation=45, horizontalalignment='right')\n",
    "plt.show()"
   ]
  },
  {
   "cell_type": "markdown",
   "metadata": {},
   "source": [
    "### 3.4 - Which shop is the \"king\" of promotions?\n",
    "\n",
    "- The promo table only has data from shops 2, 3 and 4. These were the ones considered in the section below.\n",
    "\n",
    "- shop4 is the one with a higher absolute number of promotions, still maintaining an average discount level. In August shop4 has aprox 4 times more products with discount than shop3."
   ]
  },
  {
   "cell_type": "code",
   "execution_count": 30,
   "metadata": {},
   "outputs": [
    {
     "data": {
      "image/png": "[encoded data removed]",
      "text/plain": [
       "<Figure size 864x360 with 1 Axes>"
      ]
     },
     "metadata": {
      "needs_background": "light"
     },
     "output_type": "display_data"
    },
    {
     "data": {
      "image/png": "[encoded data removed]",
      "text/plain": [
       "<Figure size 864x360 with 1 Axes>"
      ]
     },
     "metadata": {
      "needs_background": "light"
     },
     "output_type": "display_data"
    }
   ],
   "source": [
    "## Create new table to study the number of promotions per shop:\n",
    "shop_promotions_tab = promo_tab.copy()\n",
    "\n",
    "## Change \"date\" type:\n",
    "shop_promotions_tab['date'] = pd.to_datetime(shop_promotions_tab['date']) #format='%Y/%m/%d'\n",
    "\n",
    "\n",
    "colors234 = ['violet','lightseagreen', 'darkviolet']\n",
    "\n",
    "## Plot number of promotions per shop over time:\n",
    "fig_nr_promotions, ax = plt.subplots(figsize=(12,5))\n",
    "shop_promotions_tab.groupby(['date','shop']).count()['dlevel'].unstack().plot(ax=ax, alpha=1, title='Nr. promotions over time per shop', color=colors234)\n",
    "plt.show()\n",
    "\n",
    "## Plot average discount level per shop over time:\n",
    "fig_avgdlevel_promotions, ax = plt.subplots(figsize=(12,5))\n",
    "shop_promotions_tab.groupby(['date','shop']).mean()['dlevel'].unstack().plot(ax=ax, alpha=1, title='Avg. discount level over time per shop', color=colors234)\n",
    "plt.show()"
   ]
  },
  {
   "cell_type": "markdown",
   "metadata": {},
   "source": [
    "##### Extra:\n",
    "\n",
    "The categories table contained info about promotions held by shop1. This info can be also taken into consideration."
   ]
  },
  {
   "cell_type": "code",
   "execution_count": 31,
   "metadata": {},
   "outputs": [
    {
     "data": {
      "image/png": "[encoded data removed]",
      "text/plain": [
       "<Figure size 864x360 with 1 Axes>"
      ]
     },
     "metadata": {
      "needs_background": "light"
     },
     "output_type": "display_data"
    }
   ],
   "source": [
    "## Consider shop1's promotions stored at the category table:\n",
    "\n",
    "## Obtain the promotion date from the 'sub_category_1' column (last 5 digits):\n",
    "category_tab_shop1['date'] = category_tab_shop1.sub_category_1.str[-5:]\n",
    "\n",
    "## Atribute 'main_category' of category table to 'promo_type'.\n",
    "category_tab_shop1['promo_type'] = category_tab_shop1['main_category']\n",
    "\n",
    "## Only some categories are of interest. The others don't even have dates on the last 5 gidits\n",
    "category_tab_shop1 = category_tab_shop1[category_tab_shop1.promo_type.isin(['onze aanbiedingen', 'aanbiedingen'])]\n",
    "category_tab_shop1.date = category_tab_shop1.date.apply(lambda x: x.replace('-', '/') if isinstance(x, str) else x)\n",
    "\n",
    "## Convert dates from both tables to the same format:\n",
    "category_tab_shop1[['day','month']] = category_tab_shop1[\"date\"].str.split(\"/\", n = 1, expand = True) \n",
    "category_tab_shop1['year'] = '2019'\n",
    "category_tab_shop1['date'] = category_tab_shop1.year + '/' + category_tab_shop1.month + '/' + category_tab_shop1.day\n",
    "category_tab_shop1['date'] = pd.to_datetime(category_tab_shop1['date'])\n",
    "promo_tab['date'] = pd.to_datetime(promo_tab['date'])\n",
    "\n",
    "## Add shop1 promotions to other promos:\n",
    "shop_promotions_tab_allshops = pd.merge(promo_tab, category_tab_shop1, how='outer', on=['daltix_id', 'shop', 'country', 'date', 'promo_type'])\n",
    "\n",
    "colors1234 = ['darkslategrey', 'violet','lightseagreen', 'darkviolet']\n",
    "\n",
    "## Plot nr. promotions per shop over time:\n",
    "fig, ax = plt.subplots(figsize=(12,5))\n",
    "shop_promotions_tab_allshops.groupby(['date','shop']).count()['promo_type'].unstack().plot(ax=ax, alpha=1, title='Nr. promotions over time per shop', color=colors1234)\n",
    "plt.show()"
   ]
  },
  {
   "cell_type": "markdown",
   "metadata": {},
   "source": [
    "### 3.5 - Where would you do your shopping? When? Why?\n",
    "\n",
    "- I would buy everyday items in shop4, as this shop offers the lowest average prices for the least expensive categories. The exception is the category bread/breakfast ('brood/ontbijt'), where the prices are aprox 30% cheaper in shop3.\n",
    "\n",
    "\n",
    "- Items that are necessary in a lower frequency such as perfumes, suplements of maintenance equipment (categories 'lichaamsverzorging/parfumerie', 'dieetvoeding/voedingssupplementen' and 'onderhoud/huishouden') are cheaper in shop3 and there is where I would buy them.\n",
    "\n",
    "\n",
    "- Shop4 offers many promotions, especially during August, so I would probably try to buy more products then (as long as they are not perishable)."
   ]
  },
  {
   "cell_type": "markdown",
   "metadata": {},
   "source": [
    "### 3.6 - Can you spot any weird price behaviour?\n",
    "\n",
    "- It seems some product_ids have more than 1 product linked to it."
   ]
  },
  {
   "cell_type": "code",
   "execution_count": 32,
   "metadata": {},
   "outputs": [],
   "source": [
    "## Create new table to better identify weird price behaviour:\n",
    "price_behaviour = price_tab_outliersfree.copy()\n",
    "del price_behaviour['date']\n",
    "del price_behaviour['daltix_id']\n",
    "price_behaviour = price_behaviour.drop_duplicates(keep='first')"
   ]
  },
  {
   "cell_type": "markdown",
   "metadata": {},
   "source": [
    "- Example 3.6.1\n",
    "    - This example shows a product from shop 2 than is only sold in one location only that has 4 prices associated. Before outliers removal it has 5 prices associated, but one was introduced <3times so it was considered an input error.\n",
    "    - There are still 4 prices, 2 of them introduced 68x over time. These 2 (4.89€ and 1630.00€) are very different, and were many times introduced on the same day, which means there are two very different products in the shop that have the same internal product_id.\n",
    "    - Prices 5.15€ and 1716.67€ are similar to the other two and could be seen as discount prices were they not higher. They still seem to make sense to the two products linked to product_id 'S2017082304174280000'."
   ]
  },
  {
   "cell_type": "code",
   "execution_count": 33,
   "metadata": {},
   "outputs": [
    {
     "name": "stdout",
     "output_type": "stream",
     "text": [
      "Example 3.6.1:\n"
     ]
    },
    {
     "data": {
      "text/html": [
       "<div>\n",
       "<style scoped>\n",
       "    .dataframe tbody tr th:only-of-type {\n",
       "        vertical-align: middle;\n",
       "    }\n",
       "\n",
       "    .dataframe tbody tr th {\n",
       "        vertical-align: top;\n",
       "    }\n",
       "\n",
       "    .dataframe thead th {\n",
       "        text-align: right;\n",
       "    }\n",
       "</style>\n",
       "<table border=\"1\" class=\"dataframe\">\n",
       "  <thead>\n",
       "    <tr style=\"text-align: right;\">\n",
       "      <th></th>\n",
       "      <th>shop</th>\n",
       "      <th>country</th>\n",
       "      <th>product_id</th>\n",
       "      <th>location</th>\n",
       "      <th>price</th>\n",
       "      <th>unit_std</th>\n",
       "      <th>price_std</th>\n",
       "      <th>price_entries</th>\n",
       "      <th>nr_prices</th>\n",
       "    </tr>\n",
       "  </thead>\n",
       "  <tbody>\n",
       "    <tr>\n",
       "      <td>4897875</td>\n",
       "      <td>shop2</td>\n",
       "      <td>be</td>\n",
       "      <td>S2017082304174280000</td>\n",
       "      <td>be</td>\n",
       "      <td>4.89</td>\n",
       "      <td>su</td>\n",
       "      <td>16644.619405</td>\n",
       "      <td>68</td>\n",
       "      <td>5</td>\n",
       "    </tr>\n",
       "    <tr>\n",
       "      <td>4897943</td>\n",
       "      <td>shop2</td>\n",
       "      <td>be</td>\n",
       "      <td>S2017082304174280000</td>\n",
       "      <td>be</td>\n",
       "      <td>1630.00</td>\n",
       "      <td>kg</td>\n",
       "      <td>16644.619405</td>\n",
       "      <td>68</td>\n",
       "      <td>5</td>\n",
       "    </tr>\n",
       "    <tr>\n",
       "      <td>4898011</td>\n",
       "      <td>shop2</td>\n",
       "      <td>be</td>\n",
       "      <td>S2017082304174280000</td>\n",
       "      <td>be</td>\n",
       "      <td>1716.67</td>\n",
       "      <td>kg</td>\n",
       "      <td>16644.619405</td>\n",
       "      <td>6</td>\n",
       "      <td>5</td>\n",
       "    </tr>\n",
       "    <tr>\n",
       "      <td>4898017</td>\n",
       "      <td>shop2</td>\n",
       "      <td>be</td>\n",
       "      <td>S2017082304174280000</td>\n",
       "      <td>be</td>\n",
       "      <td>5.15</td>\n",
       "      <td>su</td>\n",
       "      <td>16644.619405</td>\n",
       "      <td>6</td>\n",
       "      <td>5</td>\n",
       "    </tr>\n",
       "  </tbody>\n",
       "</table>\n",
       "</div>"
      ],
      "text/plain": [
       "          shop country            product_id location    price unit_std  \\\n",
       "4897875  shop2      be  S2017082304174280000       be     4.89       su   \n",
       "4897943  shop2      be  S2017082304174280000       be  1630.00       kg   \n",
       "4898011  shop2      be  S2017082304174280000       be  1716.67       kg   \n",
       "4898017  shop2      be  S2017082304174280000       be     5.15       su   \n",
       "\n",
       "            price_std  price_entries  nr_prices  \n",
       "4897875  16644.619405             68          5  \n",
       "4897943  16644.619405             68          5  \n",
       "4898011  16644.619405              6          5  \n",
       "4898017  16644.619405              6          5  "
      ]
     },
     "execution_count": 33,
     "metadata": {},
     "output_type": "execute_result"
    }
   ],
   "source": [
    "print('Example 3.6.1:')\n",
    "price_behaviour[price_behaviour.product_id == 'S2017082304174280000']"
   ]
  },
  {
   "cell_type": "markdown",
   "metadata": {},
   "source": [
    "- Example 3.6.2\n",
    "    - Once again, this example show two prodycts linked to the same product_id of shop2.\n",
    "    - It is not a matter of decimals, since the scale difference is >>100, and the values are so different.\n",
    "    "
   ]
  },
  {
   "cell_type": "code",
   "execution_count": 34,
   "metadata": {},
   "outputs": [
    {
     "name": "stdout",
     "output_type": "stream",
     "text": [
      "Example 3.6.2:\n"
     ]
    },
    {
     "data": {
      "text/html": [
       "<div>\n",
       "<style scoped>\n",
       "    .dataframe tbody tr th:only-of-type {\n",
       "        vertical-align: middle;\n",
       "    }\n",
       "\n",
       "    .dataframe tbody tr th {\n",
       "        vertical-align: top;\n",
       "    }\n",
       "\n",
       "    .dataframe thead th {\n",
       "        text-align: right;\n",
       "    }\n",
       "</style>\n",
       "<table border=\"1\" class=\"dataframe\">\n",
       "  <thead>\n",
       "    <tr style=\"text-align: right;\">\n",
       "      <th></th>\n",
       "      <th>shop</th>\n",
       "      <th>country</th>\n",
       "      <th>product_id</th>\n",
       "      <th>location</th>\n",
       "      <th>price</th>\n",
       "      <th>unit_std</th>\n",
       "      <th>price_std</th>\n",
       "      <th>price_entries</th>\n",
       "      <th>nr_prices</th>\n",
       "    </tr>\n",
       "  </thead>\n",
       "  <tbody>\n",
       "    <tr>\n",
       "      <td>1295143</td>\n",
       "      <td>shop2</td>\n",
       "      <td>be</td>\n",
       "      <td>S2011091908000160000</td>\n",
       "      <td>be</td>\n",
       "      <td>7.49</td>\n",
       "      <td>su</td>\n",
       "      <td>7496.753819</td>\n",
       "      <td>70</td>\n",
       "      <td>3</td>\n",
       "    </tr>\n",
       "    <tr>\n",
       "      <td>1295213</td>\n",
       "      <td>shop2</td>\n",
       "      <td>be</td>\n",
       "      <td>S2011091908000160000</td>\n",
       "      <td>be</td>\n",
       "      <td>14980.00</td>\n",
       "      <td>kg</td>\n",
       "      <td>7496.753819</td>\n",
       "      <td>76</td>\n",
       "      <td>3</td>\n",
       "    </tr>\n",
       "  </tbody>\n",
       "</table>\n",
       "</div>"
      ],
      "text/plain": [
       "          shop country            product_id location     price unit_std  \\\n",
       "1295143  shop2      be  S2011091908000160000       be      7.49       su   \n",
       "1295213  shop2      be  S2011091908000160000       be  14980.00       kg   \n",
       "\n",
       "           price_std  price_entries  nr_prices  \n",
       "1295143  7496.753819             70          3  \n",
       "1295213  7496.753819             76          3  "
      ]
     },
     "execution_count": 34,
     "metadata": {},
     "output_type": "execute_result"
    }
   ],
   "source": [
    "print('Example 3.6.2:')\n",
    "price_behaviour[price_behaviour.product_id == 'S2011091908000160000']"
   ]
  },
  {
   "cell_type": "markdown",
   "metadata": {},
   "source": [
    "- Example 3.6.3\n",
    "    - This example shows a more dubious case. There are 3 prices associated to the same product_id of shop3. Prices 1.25€ and 156.25€ are both very frequent. And then there is the price 19531.25€ that seems wrong, but was still introduced 4x, and is associated to two distinct locations. If the outlier criteria removed price_entries equal to 4 it could be removing relevant data as well such as ocasional promotional prices.\n",
    "    - Other product_id from shop3 with similar results are: '18910', '14157', '6917', '18768' and '18700'"
   ]
  },
  {
   "cell_type": "code",
   "execution_count": 35,
   "metadata": {},
   "outputs": [
    {
     "name": "stdout",
     "output_type": "stream",
     "text": [
      "Example 3.6.3:\n"
     ]
    },
    {
     "data": {
      "text/html": [
       "<div>\n",
       "<style scoped>\n",
       "    .dataframe tbody tr th:only-of-type {\n",
       "        vertical-align: middle;\n",
       "    }\n",
       "\n",
       "    .dataframe tbody tr th {\n",
       "        vertical-align: top;\n",
       "    }\n",
       "\n",
       "    .dataframe thead th {\n",
       "        text-align: right;\n",
       "    }\n",
       "</style>\n",
       "<table border=\"1\" class=\"dataframe\">\n",
       "  <thead>\n",
       "    <tr style=\"text-align: right;\">\n",
       "      <th></th>\n",
       "      <th>shop</th>\n",
       "      <th>country</th>\n",
       "      <th>product_id</th>\n",
       "      <th>location</th>\n",
       "      <th>price</th>\n",
       "      <th>unit_std</th>\n",
       "      <th>price_std</th>\n",
       "      <th>price_entries</th>\n",
       "      <th>nr_prices</th>\n",
       "    </tr>\n",
       "  </thead>\n",
       "  <tbody>\n",
       "    <tr>\n",
       "      <td>2555243</td>\n",
       "      <td>shop3</td>\n",
       "      <td>be</td>\n",
       "      <td>14157</td>\n",
       "      <td>ans</td>\n",
       "      <td>1.25</td>\n",
       "      <td>su</td>\n",
       "      <td>2240.058748</td>\n",
       "      <td>150</td>\n",
       "      <td>3</td>\n",
       "    </tr>\n",
       "    <tr>\n",
       "      <td>2555245</td>\n",
       "      <td>shop3</td>\n",
       "      <td>be</td>\n",
       "      <td>14157</td>\n",
       "      <td>ledeberg</td>\n",
       "      <td>1.25</td>\n",
       "      <td>su</td>\n",
       "      <td>2240.058748</td>\n",
       "      <td>150</td>\n",
       "      <td>3</td>\n",
       "    </tr>\n",
       "    <tr>\n",
       "      <td>2555393</td>\n",
       "      <td>shop3</td>\n",
       "      <td>be</td>\n",
       "      <td>14157</td>\n",
       "      <td>ans</td>\n",
       "      <td>156.25</td>\n",
       "      <td>l</td>\n",
       "      <td>2240.058748</td>\n",
       "      <td>145</td>\n",
       "      <td>3</td>\n",
       "    </tr>\n",
       "    <tr>\n",
       "      <td>2555396</td>\n",
       "      <td>shop3</td>\n",
       "      <td>be</td>\n",
       "      <td>14157</td>\n",
       "      <td>ledeberg</td>\n",
       "      <td>156.25</td>\n",
       "      <td>l</td>\n",
       "      <td>2240.058748</td>\n",
       "      <td>145</td>\n",
       "      <td>3</td>\n",
       "    </tr>\n",
       "    <tr>\n",
       "      <td>2555538</td>\n",
       "      <td>shop3</td>\n",
       "      <td>be</td>\n",
       "      <td>14157</td>\n",
       "      <td>ledeberg</td>\n",
       "      <td>19531.25</td>\n",
       "      <td>l</td>\n",
       "      <td>2240.058748</td>\n",
       "      <td>4</td>\n",
       "      <td>3</td>\n",
       "    </tr>\n",
       "    <tr>\n",
       "      <td>2555540</td>\n",
       "      <td>shop3</td>\n",
       "      <td>be</td>\n",
       "      <td>14157</td>\n",
       "      <td>ans</td>\n",
       "      <td>19531.25</td>\n",
       "      <td>l</td>\n",
       "      <td>2240.058748</td>\n",
       "      <td>4</td>\n",
       "      <td>3</td>\n",
       "    </tr>\n",
       "  </tbody>\n",
       "</table>\n",
       "</div>"
      ],
      "text/plain": [
       "          shop country product_id  location     price unit_std    price_std  \\\n",
       "2555243  shop3      be      14157       ans      1.25       su  2240.058748   \n",
       "2555245  shop3      be      14157  ledeberg      1.25       su  2240.058748   \n",
       "2555393  shop3      be      14157       ans    156.25        l  2240.058748   \n",
       "2555396  shop3      be      14157  ledeberg    156.25        l  2240.058748   \n",
       "2555538  shop3      be      14157  ledeberg  19531.25        l  2240.058748   \n",
       "2555540  shop3      be      14157       ans  19531.25        l  2240.058748   \n",
       "\n",
       "         price_entries  nr_prices  \n",
       "2555243            150          3  \n",
       "2555245            150          3  \n",
       "2555393            145          3  \n",
       "2555396            145          3  \n",
       "2555538              4          3  \n",
       "2555540              4          3  "
      ]
     },
     "execution_count": 35,
     "metadata": {},
     "output_type": "execute_result"
    }
   ],
   "source": [
    "print('Example 3.6.3:')\n",
    "price_behaviour[(price_behaviour.product_id == '14157') & (price_behaviour.shop == 'shop3')]"
   ]
  },
  
  
  
  
  
  
  {
   "cell_type": "markdown",
   "metadata": {},
   "source": [
    "___________________\n",
    "# 4. Visualization\n",
    "\n",
    "__Description__\n",
    "\n",
    "Imagine you are presenting the insights you found to your team, which include fellow data analysts, data scientists and business colleagues.\n",
    "\n",
    "Present your findings on the insights you've discovered so far. "
   ]
  },
  {
   "cell_type": "markdown",
   "metadata": {},
   "source": [
    "### Available Dataset:\n",
    "\n",
    "- Comprises data from 4 shops, with prices from 2019-08-01 until 2019-10-15.\n",
    "\n",
    "\n",
    "- There is a different number of unique products in each table (unique 'daltix_id'):"
   ]
  },
  {
   "cell_type": "code",
   "execution_count": 36,
   "metadata": {},
   "outputs": [
    {
     "name": "stdout",
     "output_type": "stream",
     "text": [
      "Unique daltix_id:\n",
      "Shop \t Product_tab \t Price_tab \t Promo_tab \t Category_tab\n",
      "shop1 \t 2010\t\t5487\t\t0\t\t0\n",
      "shop2 \t 6\t\t17996\t\t3\t\t4\n",
      "shop3 \t 807\t\t9432\t\t115\t\t593\n",
      "shop4 \t 1369\t\t17788\t\t232\t\t765\n"
     ]
    }
   ],
   "source": [
    "print('Unique daltix_id:')\n",
    "print('Shop \\t Product_tab \\t Price_tab \\t Promo_tab \\t Category_tab')\n",
    "for i in range(len(shops)):\n",
    "    print(str(shops[i]) + ' \\t ' +  str(len(product_tab.daltix_id[product_tab.shop == shops[i]].unique())) + '\\t\\t' +\n",
    "          str(len(price_tab.daltix_id[price_tab.shop == shops[i]].unique())) + '\\t\\t' +\n",
    "          str(len(promo_tab.daltix_id[promo_tab.shop == shops[i]].unique())) + '\\t\\t' +\n",
    "          str(len(category_tab.daltix_id[category_tab.shop == shops[i]].unique())))"
   ]
  },
  {
   "cell_type": "markdown",
   "metadata": {},
   "source": [
    "### Assortment characteristics:\n",
    "\n",
    "##### 0. Assumptions:\n",
    "\n",
    "- Products from the same shop with the same 'name' and different 'product_ids' due to location were considered the same.\n",
    "\n",
    "- Products from different shops that could be the same, but are identified with slightly different names were regarded as different products.\n",
    "\n",
    "##### 1. Assortment Overlap:\n",
    "\n",
    "- Shop 2 has unique products that cannot be found in other shops."
   ]
  },
  {
   "cell_type": "code",
   "execution_count": 37,
   "metadata": {},
   "outputs": [
    {
     "data": {
      "image/png": "[encoded data removed]",
      "text/plain": [
       "<Figure size 720x2880 with 3 Axes>"
      ]
     },
     "execution_count": 37,
     "metadata": {},
     "output_type": "execute_result"
    }
   ],
   "source": [
    "fig_assortment_overlap"
   ]
  },
  {
   "cell_type": "markdown",
   "metadata": {},
   "source": [
    "##### 2. Assortment Prices:\n",
    "\n",
    "- Average price per shop:"
   ]
  },
  {
   "cell_type": "code",
   "execution_count": 38,
   "metadata": {},
   "outputs": [
    {
     "data": {
      "text/html": [
       "<div>\n",
       "<style scoped>\n",
       "    .dataframe tbody tr th:only-of-type {\n",
       "        vertical-align: middle;\n",
       "    }\n",
       "\n",
       "    .dataframe tbody tr th {\n",
       "        vertical-align: top;\n",
       "    }\n",
       "\n",
       "    .dataframe thead th {\n",
       "        text-align: right;\n",
       "    }\n",
       "</style>\n",
       "<table border=\"1\" class=\"dataframe\">\n",
       "  <thead>\n",
       "    <tr style=\"text-align: right;\">\n",
       "      <th></th>\n",
       "      <th>shop</th>\n",
       "      <th>assortment_price_avg</th>\n",
       "    </tr>\n",
       "  </thead>\n",
       "  <tbody>\n",
       "    <tr>\n",
       "      <td>0</td>\n",
       "      <td>shop1</td>\n",
       "      <td>7.08</td>\n",
       "    </tr>\n",
       "    <tr>\n",
       "      <td>1</td>\n",
       "      <td>shop2</td>\n",
       "      <td>20.77</td>\n",
       "    </tr>\n",
       "    <tr>\n",
       "      <td>2</td>\n",
       "      <td>shop3</td>\n",
       "      <td>10.08</td>\n",
       "    </tr>\n",
       "    <tr>\n",
       "      <td>3</td>\n",
       "      <td>shop4</td>\n",
       "      <td>12.37</td>\n",
       "    </tr>\n",
       "  </tbody>\n",
       "</table>\n",
       "</div>"
      ],
      "text/plain": [
       "    shop  assortment_price_avg\n",
       "0  shop1                  7.08\n",
       "1  shop2                 20.77\n",
       "2  shop3                 10.08\n",
       "3  shop4                 12.37"
      ]
     },
     "execution_count": 38,
     "metadata": {},
     "output_type": "execute_result"
    }
   ],
   "source": [
    "cheapest_assortment.assortment_price_avg = cheapest_assortment.assortment_price_avg.round(2)\n",
    "cheapest_assortment"
   ]
  },
  {
   "cell_type": "markdown",
   "metadata": {},
   "source": [
    "- Average price per category:\n",
    "\n",
    "\n",
    "    - Cheapest Categories:\n",
    "        - 1º) conserven en soepen (category_price_avg: 4.07€)  \n",
    "        - 2ª) kruidenierswaren/droge voeding (category_price_avg: 4.44€)\n",
    "        - 3º) groenten en fruit (category_price_avg: 4.44€)\n",
    "      \n",
    "    - Most Expensive Categories:\n",
    "        - 1º) lichaamsverzorging/parfumerie (category_price_avg: 28.01€)\n",
    "        - 2ª) colruyt-beenhouwerij (category_price_avg: 10.89€)\n",
    "        - 3º) dieetvoeding/voedingssupplementen (category_price_avg: 10.66€)\n",
    "            \n",
    "    - Shop4 offers the lowest average prices for the least expensive categories.\n",
    "        - Exception: category bread/breakfast ('brood/ontbijt'), where the prices are aprox 30% cheaper in shop3.\n",
    "             \n",
    "    - Items necessary in a lower frequency such as perfumes, suplements of maintenance equipment are cheaper in shop3\n",
    "        - categories 'lichaamsverzorging/parfumerie', 'dieetvoeding/voedingssupplementen' and 'onderhoud/huishouden'"
   ]
  },
  {
   "cell_type": "code",
   "execution_count": 39,
   "metadata": {},
   "outputs": [
    {
     "data": {
      "image/png": "[encoded data removed]",
      "text/plain": [
       "<Figure size 864x360 with 1 Axes>"
      ]
     },
     "execution_count": 39,
     "metadata": {},
     "output_type": "execute_result"
    }
   ],
   "source": [
    " fig_category_price"
   ]
  },
  {
   "cell_type": "markdown",
   "metadata": {},
   "source": [
    "##### 3. Promotions:\n",
    "\n",
    "- A product from a specific shop and location can have simultaneous promotions. (e.g.2.4.1)\n",
    "\n",
    "\n",
    "- shop4 is the one with a higher absolute number of promotions, still maintaining an average discount level.\n",
    "\n",
    "\n",
    "- In August shop4 has aproximately 4 times more products with discount than shop3.\n"
   ]
  },
  {
   "cell_type": "code",
   "execution_count": 40,
   "metadata": {},
   "outputs": [
    {
     "data": {
      "image/png": "[encoded data removed]",
      "text/plain": [
       "<Figure size 864x360 with 1 Axes>"
      ]
     },
     "execution_count": 40,
     "metadata": {},
     "output_type": "execute_result"
    }
   ],
   "source": [
    "fig_nr_promotions"
   ]
  },
  {
   "cell_type": "code",
   "execution_count": 41,
   "metadata": {},
   "outputs": [
    {
     "data": {
      "image/png": "[encoded data removed]",
      "text/plain": [
       "<Figure size 864x360 with 1 Axes>"
      ]
     },
     "execution_count": 41,
     "metadata": {},
     "output_type": "execute_result"
    }
   ],
   "source": [
    "fig_avgdlevel_promotions"
   ]
  },
  {
   "cell_type": "markdown",
   "metadata": {},
   "source": [
    "##### 4. Main Issues Found:\n",
    "    \n",
    "- There are products that cost too much fo the category they're at. Ex: in the groenten en fruit category there is a product that cost > 100€. This is strange.\n",
    "\n",
    "\n",
    "- Lack of standerdization in categories and products names between shops.\n",
    "\n",
    "\n",
    "- There are very different products within a shop that share the same product_id. This conclusion comes from the fact that the same product_id can have very different prices being introduced with a high frequency.    "
   ]
  },
  
  
  
  

  {
   "cell_type": "markdown",
   "metadata": {},
   "source": [
    "___________________\n",
    "# 5. Discussion\n",
    "\n",
    "__Description__\n",
    "\n",
    "Take some time to prepare some up-coming questions!\n",
    "\n",
    "* If given more time, how would you further refine your analysis? \n",
    "* What other information would you like to have to provide more valuable insigths?"
   ]
  },
  {
   "cell_type": "markdown",
   "metadata": {},
   "source": [
    "### 5.1 - Discussion:\n",
    "\n",
    "- Undoubtedly the most important info that is missing is the number of sold items per date, shop, etc. Only with this information can patterns in consumer behaviour be detected, which would help define prices and promotion in the best interest of both consumers and providers.\n",
    "\n",
    "- Regarding the type of analysis performed, given the chance, I would like to know the total number of different items sold in each shop to present the percentage of items that have discount at a specific date. The number of unique daltix_ids per shop in each table offered was different so I postponed not do this analysis. All the promo analysis could be applied to each location as well.\n",
    "\n",
    "- It is also important to mention some issues found. A big issue is the fact that some shops' internal product_ids seem to be linked to more than one product. Also, looking closely into the price range of each category some strange results poped up, such as a price of 135.91€ in the 'groenten en fruit' category.\n",
    "\n",
    "- It would also be great to have more standerdised product names, which seems difficult. I am still trying to figure out the best way to make sense of that specifil column."
   ]
  },
  
 
  
  
  
  
  
  {
   "cell_type": "markdown",
   "metadata": {},
   "source": [
    "___________________\n",
    "## 6. Bonus question\n",
    "\n",
    "__Description__\n",
    "\n",
    "You now have access to the nutritional values of some products:\n",
    "* **nutri_tbl.csv** - https://daltix-public-interviews.s3-eu-west-1.amazonaws.com/data-analyst-challenge/nutri.csv\n",
    "\n",
    "Assuming that you have to consume between 2200 kcal and 2700 kcal per day, build a basket of 15 products for a [ketogenic diet](https://en.wikipedia.org/wiki/Ketogenic_diet). Where can we buy that basket for the cheapest price? \n",
    "\n",
    "__IMPORTANT__:\n",
    "This is an extra question that you should only focus one if you have time. \n",
    "We will only consider your answer if you solved all the previous sections."
   ]
  },
 {
   "cell_type": "code",
   "execution_count": 42,
   "metadata": {},
   "outputs": [],
   "source": [
    "## Import Table:\n",
    "nutri_tab = pd.read_csv ('C:/Users/Vaz/Desktop/DALTIX/nutri.csv', sep=',', skip_blank_lines=True)\n",
    "\n",
    "## Eliminate duplicate rows:\n",
    "nutri_tab = nutri_tab.drop_duplicates(keep='first')\n",
    "\n",
    "## Eliminate rows with NaN values in 'nutritional_values' column:\n",
    "nutri_tab = nutri_tab.dropna(axis=0, subset=['nutritional_values'])"
   ]
  },
  {
   "cell_type": "code",
   "execution_count": 43,
   "metadata": {},
   "outputs": [],
   "source": [
    "## Split nutritional_values into different categories:\n",
    "\n",
    "#new = nutri_tab[\"nutritional_values\"].str.split(\"},\", n = 10, expand = True) - DID NOT WORK\n",
    "\n",
    "carbohydrates1 = nutri_tab[\"nutritional_values\"].str.split(\"carbohydrates\", n = 1, expand = True)\n",
    "carbohydrates1 = carbohydrates1[1].str.split(\"value\\\":\", n = 1, expand = True)\n",
    "carbohydrates1[1] = carbohydrates1[1].str[:5]\n",
    "carbohydrates2 = carbohydrates1[1].str.split(\"\\n\", n = 1, expand = True)\n",
    "nutri_tab['carbohydrates'] = carbohydrates2[0]\n",
    "\n",
    "fats1 = nutri_tab[\"nutritional_values\"].str.split(\"fats\", n = 1, expand = True)\n",
    "fats1 = fats1[1].str.split(\"value\\\":\", n = 1, expand = True)\n",
    "fats1[1] = fats1[1].str[:5]\n",
    "fats2 = fats1[1].str.split(\"\\n\", n = 1, expand = True)\n",
    "nutri_tab['fats'] = fats2[0]\n",
    "\n",
    "kilocalories1 = nutri_tab[\"nutritional_values\"].str.split(\"kilocalories\", n = 1, expand = True)\n",
    "kilocalories1 = kilocalories1[1].str.split(\"value\\\":\", n = 1, expand = True)\n",
    "kilocalories1[1] = kilocalories1[1].str[:5]\n",
    "kilocalories2 = kilocalories1[1].str.split(\"\\n\", n = 1, expand = True)\n",
    "nutri_tab['kilocalories'] = kilocalories2[0]\n",
    "\n",
    "proteins1 = nutri_tab[\"nutritional_values\"].str.split(\"proteins\", n = 1, expand = True)\n",
    "proteins1 = proteins1[1].str.split(\"value\\\":\", n = 1, expand = True)\n",
    "proteins1[1] = proteins1[1].str[:5]\n",
    "proteins2 = proteins1[1].str.split(\"\\n\", n = 1, expand = True)\n",
    "nutri_tab['proteins'] = proteins2[0]\n",
    "\n",
    "sugars1 = nutri_tab[\"nutritional_values\"].str.split(\"sugars\", n = 1, expand = True)\n",
    "sugars1 = sugars1[1].str.split(\"value\\\":\", n = 1, expand = True)\n",
    "sugars1[1] = sugars1[1].str[:5]\n",
    "sugars2 = sugars1[1].str.split(\"\\n\", n = 1, expand = True)\n",
    "nutri_tab['sugars'] = sugars2[0]\n",
    "\n",
    "portion1 = nutri_tab[\"nutritional_values\"].str.split(\"portion\", n = 1, expand = True)\n",
    "portion1 = portion1[1].str.split(\"value\\\":\", n = 1, expand = True)\n",
    "portion1[1] = portion1[1].str[:5]\n",
    "portion2 = portion1[1].str.split(\"\\n\", n = 1, expand = True)\n",
    "nutri_tab['portion'] = portion2[0]\n",
    "\n",
    "\n",
    "## Eliminate rows with NaN values in nutritional values column:\n",
    "nutri_tab = nutri_tab.dropna(axis=0, subset=['carbohydrates'])\n",
    "nutri_tab = nutri_tab.dropna(axis=0, subset=['fats'])\n",
    "nutri_tab = nutri_tab.dropna(axis=0, subset=['kilocalories'])\n",
    "nutri_tab = nutri_tab.dropna(axis=0, subset=['proteins'])\n",
    "nutri_tab = nutri_tab.dropna(axis=0, subset=['sugars'])\n",
    "nutri_tab = nutri_tab.dropna(axis=0, subset=['portion'])\n",
    "\n",
    "\n",
    "## Change column type:\n",
    "nutri_tab['carbohydrates'] = pd.to_numeric(nutri_tab['carbohydrates'])\n",
    "nutri_tab['fats'] = pd.to_numeric(nutri_tab['fats'])\n",
    "nutri_tab['kilocalories'] = pd.to_numeric(nutri_tab['kilocalories'])\n",
    "nutri_tab['proteins'] = pd.to_numeric(nutri_tab['proteins'])\n",
    "nutri_tab['sugars'] = pd.to_numeric(nutri_tab['sugars'])\n",
    "nutri_tab['portion'] = pd.to_numeric(nutri_tab['portion'])\n",
    "\n",
    "#Missing energy, fibers, salt, saturated_fats"
   ]
  },
  {
   "cell_type": "markdown",
   "metadata": {},
   "source": [
    "Based on the state of the art of the Ketogenic diet the following nutrient distribution sould be maintained:\n",
    "\n",
    "- fats: 70-80%\n",
    "- carbs: 5-10%\n",
    "- protein: 20-25%\n"
   ]
  },
  {
   "cell_type": "code",
   "execution_count": 44,
   "metadata": {},
   "outputs": [
    {
     "name": "stdout",
     "output_type": "stream",
     "text": [
      "Sugar(g): 1.5000000000000002\n",
      "%Carbs: 6.934419765734336\n",
      "%Fats: 72.14361669970944\n",
      "%Proteins: 20.921963534556216\n",
      "kcals: 2505.4\n",
      "products: 15\n",
      "\n",
      "Daltix ids of 15 products chosen:\n",
      "7673     b675319fc0ecd70db305ee2ce50cfd9648040071702932...\n",
      "2997     69e9ee71db9124e770cbd0e323c9166d28b2824e4c1dc8...\n",
      "13402    e04e6fa17d45eb5ae59177ed33c95624dc3d155d65a012...\n",
      "2387     32baa6d3e700cd58971ca7f45fd7acda56ece4dc602a3e...\n",
      "9859     2aed2421064f827164b8148fe93e62b6002d4662a9fa08...\n",
      "8264     4a35d82daeae84150a96c06d419ab469c059f2be1dda4d...\n",
      "15070    a58d9e2d93282c5b29890e4c88ecabf9be32ed31423dbd...\n",
      "12521    eb9ec51870cd0292bf1efc5b861c25b0e1a0f2ccb83ce6...\n",
      "15199    220221245b3b0cdead8dd03af0918100aab90bf4c12e63...\n",
      "2835     82a6cf6d29be27a0896ef864176a09d5f17e8be08d2397...\n",
      "8697     5f7a587e5d7e2a2955c0a406b8b0c9def6c12aac46251a...\n",
      "2658     252b5e2c019175eec9829a2956b48bd7be4e6a74004196...\n",
      "3064     8ebd466816df817d579485b2a011927b98952daf4e03eb...\n",
      "5147     e24fa0019161049df55f6f56e65696c3cce11ebd5424ba...\n",
      "4669     d75783196a361b29eb6bf85434fa10ededc34814c1a463...\n",
      "Name: daltix_id, dtype: object\n"
     ]
    }
   ],
   "source": [
    "## Carbs, fats anf proteins percentages:\n",
    "nutri_tab['carbohydrates_perc'] = nutri_tab['carbohydrates']/(nutri_tab['carbohydrates']+nutri_tab['fats']+nutri_tab['proteins'])\n",
    "nutri_tab['fats_perc'] = nutri_tab['fats']/(nutri_tab['carbohydrates']+nutri_tab['fats']+nutri_tab['proteins'])\n",
    "nutri_tab['proteins_perc'] = nutri_tab['proteins']/(nutri_tab['carbohydrates']+nutri_tab['fats']+nutri_tab['proteins'])\n",
    "\n",
    "## Subseting the nutricional values: (protein values were adjusted by trial and error.)\n",
    "nutri_tab_ketogenic = nutri_tab[(nutri_tab.carbohydrates_perc < 0.2) &\n",
    "                 (nutri_tab.fats_perc > 0.7) & (nutri_tab.fats_perc < 0.8) &\n",
    "                 (nutri_tab.proteins_perc > 0.15) & (nutri_tab.proteins_perc < 0.3)]\n",
    "\n",
    "## Subseting the 15 products with lowest kilocalories to reach desirable daily intake: \n",
    "nutri_tab_ketogenic_diet1 = nutri_tab_ketogenic.sort_values(by='kilocalories')[:15]\n",
    "\n",
    "\n",
    "## Print nutricional value of chosen basket:\n",
    "print('Sugar(g): ' + str(nutri_tab_ketogenic_diet1['sugars'].mean()))\n",
    "print('%Carbs: ' + str(nutri_tab_ketogenic_diet1['carbohydrates_perc'].mean()*100))\n",
    "print('%Fats: ' + str(nutri_tab_ketogenic_diet1['fats_perc'].mean()*100))\n",
    "print('%Proteins: ' + str(nutri_tab_ketogenic_diet1['proteins_perc'].mean()*100))\n",
    "print('kcals: ' + str(nutri_tab_ketogenic_diet1['kilocalories'].sum()))\n",
    "print('products: ' + str(nutri_tab_ketogenic_diet1['kilocalories'].count()))\n",
    "\n",
    "print('\\nDaltix ids of 15 products chosen:')\n",
    "print(nutri_tab_ketogenic_diet1.daltix_id)"
   ]
  },
  {
   "cell_type": "code",
   "execution_count": 50,
   "metadata": {},
   "outputs": [
    {
     "data": {
      "text/html": [
       "<div>\n",
       "<style scoped>\n",
       "    .dataframe tbody tr th:only-of-type {\n",
       "        vertical-align: middle;\n",
       "    }\n",
       "\n",
       "    .dataframe tbody tr th {\n",
       "        vertical-align: top;\n",
       "    }\n",
       "\n",
       "    .dataframe thead th {\n",
       "        text-align: right;\n",
       "    }\n",
       "</style>\n",
       "<table border=\"1\" class=\"dataframe\">\n",
       "  <thead>\n",
       "    <tr style=\"text-align: right;\">\n",
       "      <th></th>\n",
       "      <th>daltix_id</th>\n",
       "      <th>shop</th>\n",
       "      <th>location</th>\n",
       "      <th>product_id</th>\n",
       "      <th>price</th>\n",
       "    </tr>\n",
       "  </thead>\n",
       "  <tbody>\n",
       "    <tr>\n",
       "      <td>0</td>\n",
       "      <td>b675319fc0ecd70db305ee2ce50cfd9648040071702932...</td>\n",
       "      <td>shop3</td>\n",
       "      <td>ledeberg</td>\n",
       "      <td>3245211</td>\n",
       "      <td>1.71</td>\n",
       "    </tr>\n",
       "    <tr>\n",
       "      <td>1</td>\n",
       "      <td>69e9ee71db9124e770cbd0e323c9166d28b2824e4c1dc8...</td>\n",
       "      <td>shop2</td>\n",
       "      <td>be</td>\n",
       "      <td>S2015040200002440000</td>\n",
       "      <td>2.19</td>\n",
       "    </tr>\n",
       "    <tr>\n",
       "      <td>2</td>\n",
       "      <td>e04e6fa17d45eb5ae59177ed33c95624dc3d155d65a012...</td>\n",
       "      <td>shop3</td>\n",
       "      <td>ledeberg</td>\n",
       "      <td>3504510</td>\n",
       "      <td>1.71</td>\n",
       "    </tr>\n",
       "    <tr>\n",
       "      <td>3</td>\n",
       "      <td>32baa6d3e700cd58971ca7f45fd7acda56ece4dc602a3e...</td>\n",
       "      <td>shop2</td>\n",
       "      <td>be</td>\n",
       "      <td>S2016062103656490000</td>\n",
       "      <td>2.65</td>\n",
       "    </tr>\n",
       "    <tr>\n",
       "      <td>4</td>\n",
       "      <td>2aed2421064f827164b8148fe93e62b6002d4662a9fa08...</td>\n",
       "      <td>shop2</td>\n",
       "      <td>be</td>\n",
       "      <td>F2017071400003280000</td>\n",
       "      <td>2.25</td>\n",
       "    </tr>\n",
       "    <tr>\n",
       "      <td>5</td>\n",
       "      <td>4a35d82daeae84150a96c06d419ab469c059f2be1dda4d...</td>\n",
       "      <td>shop2</td>\n",
       "      <td>be</td>\n",
       "      <td>F2018030100013330000</td>\n",
       "      <td>3.00</td>\n",
       "    </tr>\n",
       "    <tr>\n",
       "      <td>6</td>\n",
       "      <td>a58d9e2d93282c5b29890e4c88ecabf9be32ed31423dbd...</td>\n",
       "      <td>shop2</td>\n",
       "      <td>be</td>\n",
       "      <td>F2018022300013140000</td>\n",
       "      <td>2.00</td>\n",
       "    </tr>\n",
       "    <tr>\n",
       "      <td>7</td>\n",
       "      <td>eb9ec51870cd0292bf1efc5b861c25b0e1a0f2ccb83ce6...</td>\n",
       "      <td>shop2</td>\n",
       "      <td>be</td>\n",
       "      <td>F2014051500195200000</td>\n",
       "      <td>0.99</td>\n",
       "    </tr>\n",
       "    <tr>\n",
       "      <td>8</td>\n",
       "      <td>220221245b3b0cdead8dd03af0918100aab90bf4c12e63...</td>\n",
       "      <td>shop3</td>\n",
       "      <td>ans</td>\n",
       "      <td>27077</td>\n",
       "      <td>3.75</td>\n",
       "    </tr>\n",
       "    <tr>\n",
       "      <td>9</td>\n",
       "      <td>82a6cf6d29be27a0896ef864176a09d5f17e8be08d2397...</td>\n",
       "      <td>shop2</td>\n",
       "      <td>be</td>\n",
       "      <td>F1999101100206600000</td>\n",
       "      <td>2.39</td>\n",
       "    </tr>\n",
       "    <tr>\n",
       "      <td>10</td>\n",
       "      <td>5f7a587e5d7e2a2955c0a406b8b0c9def6c12aac46251a...</td>\n",
       "      <td>shop2</td>\n",
       "      <td>be</td>\n",
       "      <td>F2001032100136100000</td>\n",
       "      <td>2.65</td>\n",
       "    </tr>\n",
       "    <tr>\n",
       "      <td>11</td>\n",
       "      <td>252b5e2c019175eec9829a2956b48bd7be4e6a74004196...</td>\n",
       "      <td>shop2</td>\n",
       "      <td>be</td>\n",
       "      <td>F2009021900740000000</td>\n",
       "      <td>2.65</td>\n",
       "    </tr>\n",
       "    <tr>\n",
       "      <td>12</td>\n",
       "      <td>8ebd466816df817d579485b2a011927b98952daf4e03eb...</td>\n",
       "      <td>shop2</td>\n",
       "      <td>be</td>\n",
       "      <td>F2014121500189200000</td>\n",
       "      <td>1.29</td>\n",
       "    </tr>\n",
       "    <tr>\n",
       "      <td>13</td>\n",
       "      <td>e24fa0019161049df55f6f56e65696c3cce11ebd5424ba...</td>\n",
       "      <td>shop3</td>\n",
       "      <td>ans</td>\n",
       "      <td>1105744</td>\n",
       "      <td>1.85</td>\n",
       "    </tr>\n",
       "  </tbody>\n",
       "</table>\n",
       "</div>"
      ],
      "text/plain": [
       "                                            daltix_id   shop  location  \\\n",
       "0   b675319fc0ecd70db305ee2ce50cfd9648040071702932...  shop3  ledeberg   \n",
       "1   69e9ee71db9124e770cbd0e323c9166d28b2824e4c1dc8...  shop2        be   \n",
       "2   e04e6fa17d45eb5ae59177ed33c95624dc3d155d65a012...  shop3  ledeberg   \n",
       "3   32baa6d3e700cd58971ca7f45fd7acda56ece4dc602a3e...  shop2        be   \n",
       "4   2aed2421064f827164b8148fe93e62b6002d4662a9fa08...  shop2        be   \n",
       "5   4a35d82daeae84150a96c06d419ab469c059f2be1dda4d...  shop2        be   \n",
       "6   a58d9e2d93282c5b29890e4c88ecabf9be32ed31423dbd...  shop2        be   \n",
       "7   eb9ec51870cd0292bf1efc5b861c25b0e1a0f2ccb83ce6...  shop2        be   \n",
       "8   220221245b3b0cdead8dd03af0918100aab90bf4c12e63...  shop3       ans   \n",
       "9   82a6cf6d29be27a0896ef864176a09d5f17e8be08d2397...  shop2        be   \n",
       "10  5f7a587e5d7e2a2955c0a406b8b0c9def6c12aac46251a...  shop2        be   \n",
       "11  252b5e2c019175eec9829a2956b48bd7be4e6a74004196...  shop2        be   \n",
       "12  8ebd466816df817d579485b2a011927b98952daf4e03eb...  shop2        be   \n",
       "13  e24fa0019161049df55f6f56e65696c3cce11ebd5424ba...  shop3       ans   \n",
       "\n",
       "              product_id  price  \n",
       "0                3245211   1.71  \n",
       "1   S2015040200002440000   2.19  \n",
       "2                3504510   1.71  \n",
       "3   S2016062103656490000   2.65  \n",
       "4   F2017071400003280000   2.25  \n",
       "5   F2018030100013330000   3.00  \n",
       "6   F2018022300013140000   2.00  \n",
       "7   F2014051500195200000   0.99  \n",
       "8                  27077   3.75  \n",
       "9   F1999101100206600000   2.39  \n",
       "10  F2001032100136100000   2.65  \n",
       "11  F2009021900740000000   2.65  \n",
       "12  F2014121500189200000   1.29  \n",
       "13               1105744   1.85  "
      ]
     },
     "execution_count": 50,
     "metadata": {},
     "output_type": "execute_result"
    }
   ],
   "source": [
    "ketogenic_diet1_price = pd.merge(nutri_tab_ketogenic_diet1, price_tab, how='inner', on=['daltix_id', 'shop', 'product_id', 'country']).drop_duplicates(keep='first')\n",
    "ketogenic_diet1_price = ketogenic_diet1_price[['daltix_id', 'shop', 'location', 'product_id', 'price']].copy().drop_duplicates(keep='first')\n",
    "\n",
    "ketogenic_diet1_cheapestprice = ketogenic_diet1_price.copy()\n",
    "cheapestprice = ketogenic_diet1_cheapestprice.groupby(['daltix_id'])['price'].min()\n",
    "cheapestprice.columns = ['daltix_id', 'cheapest_price']\n",
    "ketogenic_diet1_cheapestprice = pd.merge(ketogenic_diet1_cheapestprice, cheapestprice, how='inner', on=['daltix_id', 'price']).drop_duplicates(keep='first')\n",
    "ketogenic_diet1_cheapestprice"
   ]
  }
 ],
 "metadata": {
  "kernelspec": {
   "display_name": "Python 3",
   "language": "python",
   "name": "python3"
  },
  "language_info": {
   "codemirror_mode": {
    "name": "ipython",
    "version": 3
   },
   "file_extension": ".py",
   "mimetype": "text/x-python",
   "name": "python",
   "nbconvert_exporter": "python",
   "pygments_lexer": "ipython3",
   "version": "3.6.8"
  }
 },
 "nbformat": 4,
 "nbformat_minor": 4
}
