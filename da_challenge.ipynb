{
 "cells": [
  {
   "cell_type": "markdown",
   "metadata": {},
   "source": [
    "# **Daltix Data Analyst Challenge**\n",
    "In this challenge you will explore a subset of data that mirrors (in a simplified manner) some of the data we work with at Daltix.  \n",
    "The goal of this challenge is to explore the data we provide and share all insights you find relevant in a business-friendly manner.\n",
    "  \n",
    "Some tips:\n",
    "* Imagine you are presenting these to both technical and non-technical members of your company. \n",
    "* Take into consideration that the code you produce should be readable and reusable by a colleague in the future.\n",
    "\n",
    "\n",
    "**Good luck** This is a test! 😀\n",
    "\n",
    "> The Daltix Team\n",
    "______________"
   ]
  },
  {
   "cell_type": "markdown",
   "metadata": {},
   "source": [
    "source": [
    "Owner: Sofia Vaz - Date: 2019-11-05\n",
    "\n",
    "Python version: 3.7.4 - Conda version: 4.7.12 - Jupyter Notebook version: 6.0.1"
   ]
  },
  {
   "cell_type": "code",
   "execution_count": null,
   "metadata": {},
   "outputs": [],
   "source": [
    "import pandas as pd\n",
    "import pandasql as ps\n",
    "# ..."
   ]
  },
  {
   "cell_type": "markdown",
   "metadata": {},
   "source": [
    "______________\n",
    "## 1. Extract the data\n",
    "**Description**\n",
    "\n",
    "In this section you will focus on importing the files from the dataset that was provided and do a simple QA of the data.\n",
    "  \n",
    "After completing it you should be have all 4 tables locally available.\n",
    "\n",
    "_Question:_\n",
    "* Did you notice any quality issues with the files we provided? If so, can you list them? How did you deal with them? "
   ]
  },
  {
   "cell_type": "code",
   "execution_count": null,
   "metadata": {},
   "outputs": [],
   "source": [
    "# code here"
   ]
  },
  {
   "cell_type": "markdown",
   "metadata": {},
   "source": [
    "_____________________\n",
    "## 2. Explore the dataset\n",
    "\n",
    "**Requirements:**\n",
    "Use `pandasql` to query the tables and explore the dataset\n",
    "\n",
    "**Description**\n",
    "\n",
    "In this section you are free to explore the data however you like in order get to know your dataset. It's meant to be exploratory and only for you to get familiar with the data.\n",
    "\n",
    "At the end of this section you should be able to, at least, answer the following questions:\n",
    "* For which time interval you have prices for?\n",
    "* How many shops are comprised in the dataset?\n",
    "* How many different products are there per shop in the dataset?\n",
    "* Can a product have more than 1 active promotion at the same time? \n",
    "\n",
    "You are free (and __encouraged__) to further describe the dataset as you see fit."
   ]
  },
  {
   "cell_type": "code",
   "execution_count": null,
   "metadata": {},
   "outputs": [],
   "source": [
    "# code here"
   ]
  },
  {
   "cell_type": "markdown",
   "metadata": {},
   "source": [
    "___________________________\n",
    "## 3 Transformation & Manipulation\n",
    "\n",
    "__Description__\n",
    "\n",
    "In this section you should use the tables provided in the dataset and manipulate them to find valuable business insights.\n",
    "\n",
    "Some questions you should be able to answer:\n",
    "* Which shops have a bigger overlap in their assortment?\n",
    "* Which shop has the overall cheapest assortment? What about cheapest categories?\n",
    "* Which shop is the \"_king_\" of promotions?\n",
    "* Where would you do your shopping? When? Why?\n",
    "* Can you spot any weird price behaviour? \n",
    "\n",
    "The questions above are just some example questions. You should provide any insights you find useful/relevant.\n",
    "\n",
    "_Note:_\n",
    "* Use this section as a prepation for the next!"
   ]
  },
  {
   "cell_type": "code",
   "execution_count": null,
   "metadata": {},
   "outputs": [],
   "source": [
    "# code here"
   ]
  },
  {
   "cell_type": "markdown",
   "metadata": {},
   "source": [
    "___________________\n",
    "## 4. Visualization\n",
    "\n",
    "__Description__\n",
    "\n",
    "Imagine you are presenting the insights you found to your team, which include fellow data analysts, data scientists and business colleagues.\n",
    "\n",
    "Present your findings on the insights you've discovered so far. "
   ]
  },
  {
   "cell_type": "code",
   "execution_count": null,
   "metadata": {},
   "outputs": [],
   "source": [
    "# code here"
   ]
  },
  {
   "cell_type": "markdown",
   "metadata": {},
   "source": [
    "___________________\n",
    "## 5. Discussion\n",
    "\n",
    "__Description__\n",
    "\n",
    "Take some time to prepare some up-coming questions!\n",
    "\n",
    "* If given more time, how would you further refine your analysis? \n",
    "* What other information would you like to have to provide more valuable insigths?"
   ]
  },
  {
   "cell_type": "markdown",
   "metadata": {},
   "source": [
    "#### ANSWER HERE\n",
    "> ..."
   ]
  },
  {
   "cell_type": "markdown",
   "metadata": {},
   "source": [
    "___________________\n",
    "## 6. Bonus question\n",
    "\n",
    "__Description__\n",
    "\n",
    "You now have access to the nutritional values of some products:\n",
    "* **nutri_tbl.csv** - https://daltix-public-interviews.s3-eu-west-1.amazonaws.com/data-analyst-challenge/nutri.csv\n",
    "\n",
    "Assuming that you have to consume between 2200 kcal and 2700 kcal per day, build a basket of 15 products for a [ketogenic diet](https://en.wikipedia.org/wiki/Ketogenic_diet). Where can we buy that basket for the cheapest price? \n",
    "\n",
    "__IMPORTANT__:\n",
    "This is an extra question that you should only focus one if you have time. \n",
    "We will only consider your answer if you solved all the previous sections."
   ]
  },
  {
   "cell_type": "code",
   "execution_count": null,
   "metadata": {},
   "outputs": [],
   "source": [
    "# code here"
   ]
  }
 ],
 "metadata": {
  "kernelspec": {
   "display_name": "Python 3",
   "language": "python",
   "name": "python3"
  },
  "language_info": {
   "codemirror_mode": {
    "name": "ipython",
    "version": 3
   },
   "file_extension": ".py",
   "mimetype": "text/x-python",
   "name": "python",
   "nbconvert_exporter": "python",
   "pygments_lexer": "ipython3",
   "version": "3.6.8"
  }
 },
 "nbformat": 4,
 "nbformat_minor": 4
}
