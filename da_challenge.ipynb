{
 "cells": [
  {
   "cell_type": "markdown",
   "metadata": {},
   "source": [
    "# **Daltix Data Analyst Challenge**\n",
    "In this challenge you will explore a subset of data that mirrors (in a simplified manner) some of the data we work with at Daltix.  \n",
    "The goal of this challenge is to explore the data we provide and share all insights you find relevant in a business-friendly manner.\n",
    "  \n",
    "Some tips:\n",
    "* Imagine you are presenting these to both technical and non-technical members of your company. \n",
    "* Take into consideration that the code you produce should be readable and reusable by a colleague in the future.\n",
    "\n",
    "\n",
    "**Good luck** 😀\n",
    "\n",
    "> The Daltix Team\n",
    "______________"
   ]
  },
  {
   "cell_type": "markdown",
   "metadata": {},
   "source": [
    "Owner: Sofia Vaz - Date: 2019-11-05\n",
    "\n",
    "Python version: 3.7.4 - Conda version: 4.7.12 - Jupyter Notebook version: 6.0.1"
   ]
  },
  {
   "cell_type": "code",
   "execution_count": null,
   "metadata": {},
   "outputs": [],
   "source": [
    "import pandas as pd\n",
    "import pandasql as ps\n",
    "import numpy as np\n",
    "import matplotlib.pyplot as plt"
   ]
  },
  {
   "cell_type": "markdown",
   "metadata": {},
   "source": [
    "______________\n",
    "## 1. Extract the data\n",
    "**Description**\n",
    "\n",
    "In this section you will focus on importing the files from the dataset that was provided and do a simple QA of the data.\n",
    "  \n",
    "After completing it you should be have all 4 tables locally available.\n",
    "\n",
    "_Question:_\n",
    "* Did you notice any quality issues with the files we provided? If so, can you list them? How did you deal with them? "
   ]
  },
  {
   "cell_type": "markdown",
   "metadata": {},
   "source": [
    "### Import Tables & Tables Overview"
   ]
  },
   {
   "cell_type": "code",
   "execution_count": 2,
   "metadata": {},
   "outputs": [],
   "source": [
    "## Import Tables:\n",
    "product_tab = pd.read_csv ('C:/Users/Vaz/Desktop/DALTIX/product.csv', sep=',', skip_blank_lines=True)\n",
    "price_tab = pd.read_csv ('C:/Users/Vaz/Desktop/DALTIX/price.csv', sep=',', skip_blank_lines=True)\n",
    "category_tab = pd.read_csv ('C:/Users/Vaz/Desktop/DALTIX/category.csv', sep='|', skip_blank_lines=True)\n",
    "promo_tab = pd.read_csv ('C:/Users/Vaz/Desktop/DALTIX/promo.csv', sep=',', skip_blank_lines=True)"
   ]
  },
   {
   "cell_type": "code",
   "execution_count": 3,
   "metadata": {},
   "outputs": [],
   "source": [
    "## Tables Overview:\n",
    "\n",
    "#product_tab.head()\n",
    "#product_tab.describe(include='all')\n",
    "#price_tab.head()\n",
    "#price_tab.describe(include='all')\n",
    "#category_tab.head()\n",
    "#category_tab.describe(include='all')\n",
    "#promo_tab.head()\n",
    "#promo_tab.describe(include='all')\n",
    "\n",
    "\n",
    "## Chech columns types:\n",
    "\n",
    "#product_tab.info()\n",
    "#price_tab.info()\n",
    "#category_tab.info()\n",
    "#promo_tab.info()\n",
    "\n",
    "\n",
    "## Number of null entries per category:\n",
    "\n",
    "#product_tab.isnull().sum()\n",
    "#price_tab.isnull().sum()\n",
    "#category_tab.isnull().sum()\n",
    "#promo_tab.isnull().sum()\n",
    "\n",
    "\n",
    "## Find Duplicate Rows:\n",
    "\n",
    "#product_tab_norep = product_tab.drop_duplicates(keep='first')\n",
    "#print('Product Table has ' + str(len(product_tab) - len(product_tab_norep)) + ' duplicate rows')\n",
    "#price_tab_norep = price_tab.drop_duplicates(keep='first')\n",
    "#print('Price Table has ' + str(len(price_tab) - len(price_tab_norep)) + ' duplicate rows')\n",
    "#category_tab_norep = category_tab.drop_duplicates(keep='first')\n",
    "#print('Category Table has ' + str(len(category_tab) - len(category_tab_norep)) + ' duplicate rows')\n",
    "#promo_tab_norep = promo_tab.drop_duplicates(keep='first')\n",
    "#print('Promo Table has ' + str(len(promo_tab) - len(promo_tab_norep)) + ' duplicate rows')\n",
    "\n",
    "\n",
    "## Find Unique Values Per Column:\n",
    "\n",
    "#print(product_tab.shop.unique())\n",
    "#print(product_tab.country.unique())\n",
    "#print(list(product_tab.brand.sort_values().unique()))\n",
    "#print(list(product_tab.name.sort_values().unique()))\n",
    "\n",
    "#print(price_tab.shop.unique())\n",
    "#print(price_tab.country.unique())\n",
    "#print(price_tab.location.unique())\n",
    "#print(price_tab.unit_std.unique())\n",
    "\n",
    "#print(category_tab.shop.unique())\n",
    "#print(category_tab.country.unique())\n",
    "#print(list(category_tab.categories.sort_values().unique()))"
   ]
  },
  {
   "cell_type": "markdown",
   "metadata": {},
   "source": [
    "### 1.1 - Product Table"
   ]
  },
  {
   "cell_type": "markdown",
   "metadata": {},
   "source": [
    "##### Main Issues Detected\n",
    "\n",
    "- Duplicate rows: 41\n",
    "\n",
    "- Column \"country\" - lacks standardisation ('be' is different from 'be   ')\n",
    "\n",
    "- Column \"brand\" - lacks standardisation (upper/lowercase; ®)\n",
    "    - e.g.1: 'ALPRO' vs. 'ALPRO®'\n",
    "    - e.g.2: 'ALPRO' vs. 'Alpro' \n",
    "\n",
    "- Column \"name\" - lacks standardisation (upper/lowercase) \n",
    "\n",
    "##### Clean Table"
   ]
  },
  {
   "cell_type": "code",
   "execution_count": 4,
   "metadata": {},
   "outputs": [],
   "source": [
    "## Eliminate duplicate rows:\n",
    "product_tab = product_tab.drop_duplicates(keep='first')\n",
    "\n",
    "## Standardize \"country\":\n",
    "product_tab.loc[product_tab.country.str.contains('be'), 'country'] = 'be'\n",
    "product_tab.loc[product_tab.country.str.contains('nl'), 'country'] = 'nl'\n",
    "\n",
    "## Standardize categorical vars:\n",
    "product_tab['name'] = product_tab['name'].str.lower()\n",
    "product_tab['brand'] = product_tab['brand'].str.lower()\n",
    "product_tab.brand = product_tab.brand.apply(lambda x: x.replace('®', '') if isinstance(x, str) else x)\n",
    "product_tab['contents'] = product_tab['contents'].str.lower()"
   ]
  },
  {
   "cell_type": "markdown",
   "metadata": {},
   "source": [
    "### 1.2 - Price Table"
   ]
  },
  {
   "cell_type": "markdown",
   "metadata": {},
   "source": [
    "##### Main Issues Detected\n",
    "\n",
    "- Duplicate rows: 1649\n",
    "\n",
    "- Column \"price\" - highly scattered, with outliers. Some outliers were removed in this section. There are still weird prices that will be analized in section 3.5.\n",
    "\n",
    "- Column \"price\" is also a numerical category, with NaN values. These rows need to be deleted.\n",
    "\n",
    "##### Clean Table"
   ]
  },
  {
   "cell_type": "code",
   "execution_count": 5,
   "metadata": {},
   "outputs": [],
   "source": [
    "## Eliminate duplicate rows:\n",
    "price_tab = price_tab.drop_duplicates(keep='first')\n",
    "\n",
    "## Eliminate rows with NaN values in 'price' column:\n",
    "price_tab = price_tab.dropna(axis=0, subset=['price'])"
   ]
  },
  {
   "cell_type": "code",
   "execution_count": 6,
   "metadata": {},
   "outputs": [
    {
     "data": {
      "text/plain": [
       "<matplotlib.axes._subplots.AxesSubplot at 0x18e21b3da88>"
      ]
     },
     "execution_count": 6,
     "metadata": {},
     "output_type": "execute_result"
    },
    {
     "data": {
      "image/png": "[encoded data removed]",
      "text/plain": [
       "<Figure size 432x288 with 1 Axes>"
      ]
     },
     "metadata": {
      "needs_background": "light"
     },
     "output_type": "display_data"
    }
   ],
   "source": [
    "## Check for outliers:\n",
    "\n",
    "## Check for outliers visually by finding the standard deviation by 'daltix_id':\n",
    "find_outliers_tab = price_tab[['daltix_id', 'location', 'price', 'date']].copy().drop_duplicates(keep='first')\n",
    "stdeviations = find_outliers_tab.groupby('daltix_id').std()\n",
    "\n",
    "## Add price standard deviation as 'price_std' to the table 'find_outliers_tab' and 'price_tab':\n",
    "stdeviations.columns = stdeviations.columns + '_std'\n",
    "find_outliers_tab = pd.merge(find_outliers_tab, stdeviations.price_std, how='outer', on=['daltix_id'])\n",
    "price_tab = pd.merge(price_tab, stdeviations.price_std, how='outer', on=['daltix_id'])\n",
    "\n",
    "## Plot 'price_std' per 'daltix_id':\n",
    "find_outliers_tab.plot(x=\"daltix_id\", y=\"price_std\", marker='.')"
   ]
  },
  {
   "cell_type": "code",
   "execution_count": 7,
   "metadata": {},
   "outputs": [],
   "source": [
    "## Define metrics to delete outliers:\n",
    "\n",
    "## See different price entries introduced per daltix_id:\n",
    "find_outliers_tab.groupby('daltix_id')['price'].unique()\n",
    "\n",
    "## Find number of unique price entries per daltix_id:\n",
    "price_per_daltix_id = find_outliers_tab[['daltix_id', 'price']].copy().drop_duplicates(keep='first')\n",
    "price_nrprices_tab = price_per_daltix_id.groupby('daltix_id')['price'].count().to_frame('nr_prices').reset_index()\n",
    "price_nrprices_tab.sort_values(by='daltix_id')\n",
    "\n",
    "## Are any prices wrongly introduced/registered? See the number of price entries per different 'price' per 'daltix_id':\n",
    "daltix_ids = find_outliers_tab.daltix_id.unique()\n",
    "price_entries_tab = find_outliers_tab.groupby(['daltix_id', 'price'])['price'].count().to_frame('price_entries').reset_index()\n",
    "price_entries_tab.sort_values(by='daltix_id')\n",
    "\n",
    "## Add 'price_entries' column and 'nr_prices' to price_tab:\n",
    "price_tab_2 = pd.merge(price_tab, price_entries_tab, how='outer', on=['daltix_id', 'price'])\n",
    "price_tab_3 = pd.merge(price_tab_2, price_nrprices_tab, how='outer', on=['daltix_id'])\n",
    "\n",
    "## Change 'price_entries' and 'nr_prices' columns into integers:\n",
    "price_tab_3.price_entries = price_tab_3.price_entries.astype(int)\n",
    "price_tab_3.nr_prices = price_tab_3.nr_prices.astype(int)\n",
    "\n",
    "## Eliminate Outliers - vals introduced <=3x when >1 prices have been introduced for a particular 'daltix_id':\n",
    "outliers = price_tab_3[(price_tab_3.nr_prices>1) & (price_tab_3.price_entries<=3)]\n",
    "price_tab_outliersfree = price_tab_3[~((price_tab_3.nr_prices>1) & (price_tab_3.price_entries<=3))]\n",
    "\n",
    "## Check:\n",
    "#pd.set_option('display.max_rows', price_tab_outliersfree.shape[0]+1)\n",
    "#price_tab_outliersfree[price_tab_outliersfree.product_id.isin(['S2019080600288050000'])].sort_values(by='price')"
   ]
  },
  {
   "cell_type": "code",
   "execution_count": 8,
   "metadata": {},
   "outputs": [
    {
     "data": {
      "text/plain": [
       "<matplotlib.axes._subplots.AxesSubplot at 0x18e22868d48>"
      ]
     },
     "execution_count": 8,
     "metadata": {},
     "output_type": "execute_result"
    },
    {
     "data": {
      "image/png": "[encoded data removed]",
      "text/plain": [
       "<Figure size 432x288 with 1 Axes>"
      ]
     },
     "metadata": {
      "needs_background": "light"
     },
     "output_type": "display_data"
    }
   ],
   "source": [
    "## Check for outliers after first metrics was applied:\n",
    "\n",
    "## Check for outliers a second time visually by finding the standard deviation by 'daltix_id':\n",
    "find_outliers_tab = price_tab_outliersfree[['daltix_id', 'location', 'price', 'date']].copy().drop_duplicates(keep='first')\n",
    "stdeviations = find_outliers_tab.groupby('daltix_id').std()\n",
    "\n",
    "## Add price standard deviation as 'price_std' to the table 'find_outliers_tab':\n",
    "stdeviations.columns = stdeviations.columns + '_std2'\n",
    "find_outliers_tab = pd.merge(find_outliers_tab, stdeviations.price_std2, how='outer', on=['daltix_id'])\n",
    "price_tab = pd.merge(price_tab, stdeviations.price_std2, how='outer', on=['daltix_id'])\n",
    "#price_tab_outliersfree = pd.merge(price_tab_outliersfree, stdeviations.price_std2, how='outer', on=['daltix_id']) APAGAR\n",
    "\n",
    "## Plot 'price_std' per 'daltix_id':\n",
    "find_outliers_tab.plot(x=\"daltix_id\", y=\"price_std2\", marker='.', ylim=[0,10000])"
   ]
  },
  {
   "cell_type": "markdown",
   "metadata": {},
   "source": [
    "### 1.3 - Category Table"
   ]
  },
  {
   "cell_type": "markdown",
   "metadata": {},
   "source": [
    "##### Main Issues Detected\n",
    "- Field \"categories\" - separate into 'main_category', 'sub_category_1', 'sub_category_2'\n",
    "\n",
    "- Field 'main_category' - has different levels of main category (promotion category is very different from a product type category). Only shop1 has main categories that are not product type, and all shop1's  main categories are not product type.\n",
    "    - e.g.1: 'Aanbiedingen' vs. 'Dranken'\n",
    "    \n",
    "- Field \"main_category\" - lacks standardisation\n",
    "    - e.g.1: 'Wijn & Bubbels' vs. 'Wijn en Bubbels'\n",
    "    - e.g.2: 'Brood / Ontbijt' vs. 'Brood/Ontbijt'\n",
    "    \n",
    "\n",
    "##### Clean Table"
   ]
  },
  {
   "cell_type": "code",
   "execution_count": 9,
   "metadata": {},
   "outputs": [],
   "source": [
    "## Standardize column 'categories' in category_tab:\n",
    "category_tab['categories'] = category_tab['categories'].str.lower()\n",
    "category_tab.categories = category_tab.categories.apply(lambda x: x.replace(' / ', '/') if isinstance(x, str) else x)\n",
    "category_tab.categories = category_tab.categories.apply(lambda x: x.replace('&', 'en') if isinstance(x, str) else x)\n",
    "category_tab.categories = category_tab.categories.apply(lambda x: x.replace('  ', ' ') if isinstance(x, str) else x)\n",
    "\n",
    "## Split 'categories' column into 3 columns (n=2):\n",
    "category_split = category_tab[\"categories\"].str.split(\",\", n = 2, expand = True) \n",
    "\n",
    "## Clean each new column by selecting text between \"\":\n",
    "category_split_0 = category_split[0].str.split(\"\\\"\", n = 2, expand = True)\n",
    "category_split_1 = category_split[1].str.split(\"\\\"\", n = 2, expand = True)\n",
    "category_split_2 = category_split[2]\n",
    "\n",
    "## Give new columns the names 'main_category', 'sub_category_1', 'subsub_categories', and add them to 'category_tab' table:\n",
    "category_tab[\"main_category\"]= category_split_0[1]\n",
    "category_tab[\"sub_category_1\"]= category_split_1[1]\n",
    "category_tab[\"subsub_categories\"]= category_split_2\n",
    "\n",
    "## Analyze each shop categories:\n",
    "#category_tab.main_category[category_tab.shop == 'shop1'].value_counts().plot.pie()\n",
    "#print(category_tab.main_category[category_tab.shop == 'shop1'].sort_values().unique())\n",
    "\n",
    "## Separate category data from shop1 to a different table (category_tab_shop1):\n",
    "category_tab_shop1 = category_tab[category_tab.shop == 'shop1'].copy()\n",
    "category_tab = category_tab[category_tab.shop != 'shop1'].copy()"
   ]
  },
  {
   "cell_type": "markdown",
   "metadata": {},
   "source": [
    "### 1.4 - Promo Table"
   ]
  },
  {
   "cell_type": "markdown",
   "metadata": {},
   "source": [
    "##### Main Issues Detected\n",
    "\n",
    "- Field \"dlevel\" - highly scattered\n",
    "\n",
    "    - Most discount values were in the [0,1] range. However, some instances were in the [0,100] range (probably introduced as percentages). These values were normalized and used in the analysis.\n",
    "    \n",
    "    - Discounts over 0.75 do not exist, as expected and only one item from shop3 has dlevels over 0.5, in both 'ledeberg' and 'ans' locations.\n",
    "\n",
    "##### Clean Table"
   ]
  },
  {
   "cell_type": "code",
   "execution_count": 10,
   "metadata": {},
   "outputs": [],
   "source": [
    "## Check unique discount values 'dlevel':\n",
    "promo_tab.dlevel.sort_values().unique()\n",
    "\n",
    "## Check number of discount values > 1 (these were probably introduced as percentages):\n",
    "promo_tab[promo_tab.dlevel > 1]\n",
    "\n",
    "## Normalize dlevels introduced as percentages:\n",
    "promo_tab.loc[promo_tab['dlevel'] > 1, 'dlevel'] = promo_tab['dlevel'] * 0.01\n",
    "\n",
    "## Does the maximum dlevel make sense? Over 0.5 is a very big discount.\n",
    "#promo_tab[promo_tab.dlevel > 0.5]"
   ]
  },
  {
   "cell_type": "code",
   "execution_count": null,
   "metadata": {},
   "outputs": [],
   "source": [
    "# code here"
   ]
  },
  {
   "cell_type": "markdown",
   "metadata": {},
   "source": [
    "_____________________\n",
    "## 2. Explore the dataset\n",
    "\n",
    "**Requirements:**\n",
    "Use `pandasql` to query the tables and explore the dataset\n",
    "\n",
    "**Description**\n",
    "\n",
    "In this section you are free to explore the data however you like in order get to know your dataset. It's meant to be exploratory and only for you to get familiar with the data.\n",
    "\n",
    "At the end of this section you should be able to, at least, answer the following questions:\n",
    "* For which time interval you have prices for?\n",
    "* How many shops are comprised in the dataset?\n",
    "* How many different products are there per shop in the dataset?\n",
    "* Can a product have more than 1 active promotion at the same time? \n",
    "\n",
    "You are free (and __encouraged__) to further describe the dataset as you see fit."
   ]
  },
  
  
  
  
  
   {
   "cell_type": "code",
   "execution_count": 11,
   "metadata": {},
   "outputs": [],
   "source": [
    "def pysqldf(query):\n",
    " return ps.sqldf(query, globals())"
   ]
  },
  {
   "cell_type": "markdown",
   "metadata": {},
   "source": [
    "### 2.1 - For which time interval you have prices for?\n",
    "\n",
    "- From 2019-08-01 until 2019-10-15\n",
    "\n",
    "Owner Note: It was necessary to use pandas due to large file dimensions. Otherwise PC would crash.\n"
   ]
  },
  {
   "cell_type": "code",
   "execution_count": 12,
   "metadata": {},
   "outputs": [],
   "source": [
    "## USING PANDASQL: \n",
    "\n",
    "#q_sort_price_date = \"\"\"\n",
    "#SELECT DISTINCT price, date\n",
    "#FROM price_tab\n",
    "#WHERE price AND date IS NOT NULL\n",
    "#ORDER BY [date];\n",
    "#\"\"\"\n",
    "#sort_price_date = pysqldf(q_sort_price_date)\n",
    "#print(sort_price_date.head())\n",
    "#print(sort_price_date.tail())"
   ]
  },
  {
   "cell_type": "code",
   "execution_count": 13,
   "metadata": {},
   "outputs": [
    {
     "name": "stdout",
     "output_type": "stream",
     "text": [
      "ti: 2019-08-01\n",
      "tf: 2019-10-15\n"
     ]
    }
   ],
   "source": [
    "## USING PANDAS: \n",
    "\n",
    "#price_tab.sort_values(by='date')\n",
    "print(\"ti: \" + str(price_tab.date.min()))\n",
    "print(\"tf: \" + str(price_tab.date.max()))"
   ]
  },
  {
   "cell_type": "markdown",
   "metadata": {},
   "source": [
    "### 2.2 - How many shops are comprised in the dataset?\n",
    "\n",
    "- Product/Price Tables: 4 shops (Shop1, Shop2, Shop3, Shop4)\n",
    "- Promo Table: 3 shops (Shop2, Shop3, Shop4)\n",
    "- Category Table: 3 shops (Shop2, Shop3, Shop4) + Shop1, previously eliminated from this table\n",
    "\n",
    "Owner Note: It was necessary to use pandas for the price file, due to large file dimensions. Otherwise PC would crash.\n"
   ]
  },
  {
   "cell_type": "code",
   "execution_count": 14,
   "metadata": {},
   "outputs": [
    {
     "name": "stdout",
     "output_type": "stream",
     "text": [
      "Nr of shops in Product Table: 4\n",
      "Nr of shops in Category Table: 3\n",
      "Nr of shops in Promo Table: 3\n"
     ]
    }
   ],
   "source": [
    "## USING PANDASQL: \n",
    "\n",
    "    ## Product Dataset\n",
    "q_nr_shops_product_tab = \"\"\"\n",
    "SELECT DISTINCT product_tab.shop\n",
    "FROM product_tab;\n",
    "\"\"\"\n",
    "print(\"Nr of shops in Product Table: \" + str(len(pysqldf(q_nr_shops_product_tab))))\n",
    "#print(pysqldf(q_nr_shops_product_tab).sort_values(by='shop'))\n",
    "\n",
    "    ## Category Dataset\n",
    "q_nr_shops_category_tab = \"\"\"\n",
    "SELECT DISTINCT category_tab.shop\n",
    "FROM category_tab;\n",
    "\"\"\"\n",
    "print(\"Nr of shops in Category Table: \" + str(len(pysqldf(q_nr_shops_category_tab))))\n",
    "#print(pysqldf(q_nr_shops_category_tab).sort_values(by='shop'))\n",
    "\n",
    "    ## Promo Dataset\n",
    "q_nr_shops_promo_tab = \"\"\"\n",
    "SELECT DISTINCT promo_tab.shop\n",
    "FROM promo_tab;\n",
    "\"\"\"\n",
    "print(\"Nr of shops in Promo Table: \" + str(len(pysqldf(q_nr_shops_promo_tab))))\n",
    "#print(pysqldf(q_nr_shops_promo_tab).sort_values(by='shop'))\n",
    "\n",
    "    ## Price Dataset\n",
    "#q_nr_shops_price_tab = \"\"\"\n",
    "#SELECT DISTINCT price_tab.shop\n",
    "#FROM price_tab;\n",
    "#\"\"\"\n",
    "#print(\"Nr of shops in Price Table: \" + str(len(pysqldf(q_nr_shops_price_tab))))"
   ]
  },
  {
   "cell_type": "code",
   "execution_count": 15,
   "metadata": {},
   "outputs": [
    {
     "name": "stdout",
     "output_type": "stream",
     "text": [
      "Nr of shops in Price Table: 4\n"
     ]
    }
   ],
   "source": [
    "## USING PANDAS: \n",
    "\n",
    "    ## Price Dataset\n",
    "nr_shops_price_tab = price_tab.shop.unique()\n",
    "\n",
    "print(\"Nr of shops in Price Table: \" + str(len(nr_shops_price_tab)))\n",
    "#print(sorted(price_tab.shop.unique()))"
   ]
  },
  {
   "cell_type": "markdown",
   "metadata": {},
   "source": [
    "### 2.3 - How many different products are there per shop in the dataset?"
   ]
  },
  {
   "cell_type": "markdown",
   "metadata": {},
   "source": [
    "##### 2.3 - Main Issues Detected\n",
    "\n",
    "- Question: Is there a unique product_id for each daltix_id?\n",
    "\n",
    "    - Answer: NO. There are more daltix_ids than product_ids.\n",
    "        - Is it because daltix_id(product_id, shop, country)? Does this happen only when the shop is in > 1 country? YES\n",
    "        \n",
    "(See code below)"
   ]
  },
  {
   "cell_type": "code",
   "execution_count": 16,
   "metadata": {},
   "outputs": [
    {
     "name": "stdout",
     "output_type": "stream",
     "text": [
      "\n",
      "Unique Entries:\n",
      "Shops \t country \t daltix_id \t product_id \t name\n",
      "shop1\t2\t\t2010\t\t1896\t\t1901\n",
      "shop2\t1\t\t6\t\t6\t\t6\n",
      "shop3\t1\t\t807\t\t807\t\t794\n",
      "shop4\t1\t\t1369\t\t1369\t\t1363\n",
      "\n",
      "Unique daltix_ids per table:\n",
      "Shop \t Product_tab \t Price_tab \t Promo_tab \t Category_tab\n",
      "shop1 \t 2010\t\t5487\t\t0\t\t0\n",
      "shop2 \t 6\t\t17996\t\t3\t\t4\n",
      "shop3 \t 807\t\t9432\t\t115\t\t593\n",
      "shop4 \t 1369\t\t17788\t\t232\t\t765\n"
     ]
    }
   ],
   "source": [
    "shops = product_tab.shop.sort_values().unique()\n",
    "\n",
    "## Print unique values per shop, to understant if there is overlap between identifying variables:\n",
    "\n",
    "print('\\nUnique Entries:') \n",
    "print('Shops \\t country \\t daltix_id \\t product_id \\t name') \n",
    "for i in range(len(shops)):\n",
    "    print(str(shops[i]) + '\\t' + str(len(product_tab.country[product_tab.shop == shops[i]].unique())) +\n",
    "          '\\t\\t' + str(len(product_tab.daltix_id[product_tab.shop == shops[i]].unique())) +\n",
    "          '\\t\\t' + str(len(product_tab.product_id[product_tab.shop == shops[i]].unique())) +\n",
    "          '\\t\\t' + str(len(product_tab.name[product_tab.shop == shops[i]].unique())))\n",
    "    \n",
    "print('\\nUnique daltix_ids per table:')\n",
    "print('Shop \\t Product_tab \\t Price_tab \\t Promo_tab \\t Category_tab')\n",
    "for i in range(len(shops)):\n",
    "    print(str(shops[i]) + ' \\t ' +  str(len(product_tab.daltix_id[product_tab.shop == shops[i]].unique())) + '\\t\\t' +\n",
    "          str(len(price_tab.daltix_id[price_tab.shop == shops[i]].unique())) + '\\t\\t' +\n",
    "          str(len(promo_tab.daltix_id[promo_tab.shop == shops[i]].unique())) + '\\t\\t' +\n",
    "          str(len(category_tab.daltix_id[category_tab.shop == shops[i]].unique())))"
   ]
  },
  {
   "cell_type": "markdown",
   "metadata": {},
   "source": [
    "- Question: Can a shop have >1 products associated to the same product_id?\n",
    "\n",
    "    - Answer: YES. There are products within a shop with the same product_id that are very different products and have a different name! This can happen if the shop exists in different countries. In this case the variable \"daltix_id\" solves it. (e.g.2.3.1)\n",
    "    \n",
    "\n",
    "- Question: Can different shops have  products associated to the same product_id?\n",
    "\n",
    "    - Answer: YES. There are products from different shops that have the same product_id. They might even be similar products with names written slightly differently. In this case it does not affect the product count per shop. (e.g.2.3.2)\n",
    "    \n",
    "    \n",
    "- Question: Can a shop have >1 products with the same name identified with different product_id's?\n",
    "\n",
    "    - Answer: YES. There are products within a shop with the same name that have different product_ids (both in the same country and in different countries)! In these cases the same product can be considered >1 time. (e.g.2.3.3 and e.g.2.3.4)\n",
    "    \n",
    "(See code below)   "
   ]
  },
  {
   "cell_type": "code",
   "execution_count": 17,
   "metadata": {},
   "outputs": [
    {
     "name": "stdout",
     "output_type": "stream",
     "text": [
      "\n",
      "Example 2.3.1: \n",
      "      shop country product_id                name\n",
      "455  shop1      be       1270    hondenpoepzakjes\n",
      "547  shop1      nl       1270  italiaanse burgers\n",
      "\n",
      "Example 2.3.2: \n",
      "       shop country product_id                                      name\n",
      "307   shop3      be      10315       boni s. fruitcockt.lichte sir. blik\n",
      "1390  shop4      be      10315  boni s. fruitcockt.lichte sir. blik 227g\n",
      "\n",
      "Example 2.3.3: \n",
      "       shop country product_id                  name\n",
      "249   shop4      be      10288  aardappelsalade 500g\n",
      "1445  shop4      be      29189  aardappelsalade 500g\n",
      "\n",
      "Example 2.3.4: \n",
      "       shop country product_id      name\n",
      "585   shop1      nl       1131  advocaat\n",
      "1848  shop1      be       4237  advocaat\n"
     ]
    }
   ],
   "source": [
    "shops = product_tab.shop.sort_values().unique()\n",
    "shop_assortment = product_tab[['shop', 'country', 'product_id', 'name']].copy().drop_duplicates(keep='first')\n",
    "\n",
    "## Find examples of duplicate product_ids: \n",
    "duplicate_product_id = pd.concat(g for _, g in shop_assortment.groupby(\"product_id\") if len(g) > 1)\n",
    "duplicate_names = pd.concat(g for _, g in shop_assortment.groupby(\"name\") if len(g) > 1)\n",
    "\n",
    "print('\\nExample 2.3.1: ')\n",
    "print(duplicate_product_id[duplicate_product_id.product_id == '1270'])\n",
    "\n",
    "print('\\nExample 2.3.2: ')\n",
    "print(duplicate_product_id[duplicate_product_id.product_id == '10315'])\n",
    "\n",
    "print('\\nExample 2.3.3: ')\n",
    "print(duplicate_names[duplicate_names.name == 'aardappelsalade 500g'])\n",
    "\n",
    "print('\\nExample 2.3.4: ')\n",
    "print(duplicate_names[duplicate_names.name == 'advocaat'])"
   ]
  },
  {
   "cell_type": "code",
   "execution_count": 18,
   "metadata": {},
   "outputs": [
    {
     "name": "stdout",
     "output_type": "stream",
     "text": [
      "Product Table - shop1:\n",
      "   COUNT(DISTINCT daltix_id)\n",
      "0                       2010\n",
      "Product Table - shop2:\n",
      "   COUNT(DISTINCT daltix_id)\n",
      "0                          6\n",
      "Product Table - shop3:\n",
      "   COUNT(DISTINCT daltix_id)\n",
      "0                        807\n",
      "Product Table - shop4:\n",
      "   COUNT(DISTINCT daltix_id)\n",
      "0                       1369\n"
     ]
    }
   ],
   "source": [
    "## USING PANDASQL: \n",
    "\n",
    "    ## Shop1:\n",
    "q_products_shop1 = \"\"\"\n",
    "SELECT COUNT(DISTINCT daltix_id)\n",
    "FROM product_tab\n",
    "WHERE shop ='shop1';\n",
    "\"\"\"\n",
    "print('Product Table - shop1:\\n' + str(pysqldf(q_products_shop1)))\n",
    "\n",
    "    ## Shop2:\n",
    "q_products_shop2 = \"\"\"\n",
    "SELECT COUNT(DISTINCT daltix_id)\n",
    "FROM product_tab\n",
    "WHERE shop ='shop2';\n",
    "\"\"\"\n",
    "print('Product Table - shop2:\\n' + str(pysqldf(q_products_shop2)))\n",
    "\n",
    "    ## Shop3:\n",
    "q_products_shop3 = \"\"\"\n",
    "SELECT COUNT(DISTINCT daltix_id)\n",
    "FROM product_tab\n",
    "WHERE shop ='shop3';\n",
    "\"\"\"\n",
    "print('Product Table - shop3:\\n' + str(pysqldf(q_products_shop3)))\n",
    "\n",
    "    ## Shop4:\n",
    "q_products_shop4 = \"\"\"\n",
    "SELECT COUNT(DISTINCT daltix_id)\n",
    "FROM product_tab\n",
    "WHERE shop ='shop4';\n",
    "\"\"\"\n",
    "print('Product Table - shop4:\\n' + str(pysqldf(q_products_shop4)))"
   ]
  },
  {
   "cell_type": "markdown",
   "metadata": {},
   "source": [
    "### 2.4 - Can a product have more than 1 active promotion at the same time?\n",
    "\n",
    "- YES. A product from a specific shop can have different promotions at different locations and at the same location! (e.g.2.4.1)"
   ]
  },
  {
   "cell_type": "code",
   "execution_count": 19,
   "metadata": {},
   "outputs": [
    {
     "name": "stdout",
     "output_type": "stream",
     "text": [
      "Maximum number of simultaneous promotions:\n",
      "promo_nr    2\n",
      "dtype: int64\n"
     ]
    }
   ],
   "source": [
    "## USING PANDASQL:\n",
    "\n",
    "# Item simultaneous promotions at a specific shop at a specific location:\n",
    "q_simultaneous_promos = \"\"\"\n",
    "SELECT COUNT (DISTINCT promo_type) AS promo_nr\n",
    "FROM promo_tab\n",
    "GROUP BY daltix_id, date, shop, location\n",
    "ORDER BY promo_nr DESC;\n",
    "\"\"\"\n",
    "\n",
    "print('Maximum number of simultaneous promotions:')\n",
    "print(pysqldf(q_simultaneous_promos).max())"
   ]
  },
  {
   "cell_type": "code",
   "execution_count": 20,
   "metadata": {},
   "outputs": [
    {
     "name": "stdout",
     "output_type": "stream",
     "text": [
      "[1 2 4]\n",
      "Example 2.4.1:\n"
     ]
    },
    {
     "data": {
      "text/html": [
       "<div>\n",
       "<style scoped>\n",
       "    .dataframe tbody tr th:only-of-type {\n",
       "        vertical-align: middle;\n",
       "    }\n",
       "\n",
       "    .dataframe tbody tr th {\n",
       "        vertical-align: top;\n",
       "    }\n",
       "\n",
       "    .dataframe thead th {\n",
       "        text-align: right;\n",
       "    }\n",
       "</style>\n",
       "<table border=\"1\" class=\"dataframe\">\n",
       "  <thead>\n",
       "    <tr style=\"text-align: right;\">\n",
       "      <th></th>\n",
       "      <th>daltix_id</th>\n",
       "      <th>shop</th>\n",
       "      <th>country</th>\n",
       "      <th>location</th>\n",
       "      <th>promo_type</th>\n",
       "      <th>dlevel</th>\n",
       "      <th>date</th>\n",
       "      <th>daltix_id_date</th>\n",
       "    </tr>\n",
       "  </thead>\n",
       "  <tbody>\n",
       "    <tr>\n",
       "      <td>1279</td>\n",
       "      <td>f2e5afe8ce05318fd548adb4bd96eb783e1b85b0e6d682...</td>\n",
       "      <td>shop3</td>\n",
       "      <td>be</td>\n",
       "      <td>ledeberg</td>\n",
       "      <td>Price cut with Multibuy Condition</td>\n",
       "      <td>0.357143</td>\n",
       "      <td>2019-08-27</td>\n",
       "      <td>f2e5afe8ce05318fd548adb4bd96eb783e1b85b0e6d682...</td>\n",
       "    </tr>\n",
       "    <tr>\n",
       "      <td>2617</td>\n",
       "      <td>f2e5afe8ce05318fd548adb4bd96eb783e1b85b0e6d682...</td>\n",
       "      <td>shop3</td>\n",
       "      <td>be</td>\n",
       "      <td>ans</td>\n",
       "      <td>Price cut with Multibuy Condition</td>\n",
       "      <td>0.251256</td>\n",
       "      <td>2019-08-27</td>\n",
       "      <td>f2e5afe8ce05318fd548adb4bd96eb783e1b85b0e6d682...</td>\n",
       "    </tr>\n",
       "    <tr>\n",
       "      <td>2844</td>\n",
       "      <td>f2e5afe8ce05318fd548adb4bd96eb783e1b85b0e6d682...</td>\n",
       "      <td>shop3</td>\n",
       "      <td>be</td>\n",
       "      <td>ledeberg</td>\n",
       "      <td>Price cut</td>\n",
       "      <td>0.714286</td>\n",
       "      <td>2019-08-27</td>\n",
       "      <td>f2e5afe8ce05318fd548adb4bd96eb783e1b85b0e6d682...</td>\n",
       "    </tr>\n",
       "    <tr>\n",
       "      <td>4177</td>\n",
       "      <td>f2e5afe8ce05318fd548adb4bd96eb783e1b85b0e6d682...</td>\n",
       "      <td>shop3</td>\n",
       "      <td>be</td>\n",
       "      <td>ans</td>\n",
       "      <td>Price cut</td>\n",
       "      <td>0.502513</td>\n",
       "      <td>2019-08-27</td>\n",
       "      <td>f2e5afe8ce05318fd548adb4bd96eb783e1b85b0e6d682...</td>\n",
       "    </tr>\n",
       "  </tbody>\n",
       "</table>\n",
       "</div>"
      ],
      "text/plain": [
       "                                              daltix_id   shop country  \\\n",
       "1279  f2e5afe8ce05318fd548adb4bd96eb783e1b85b0e6d682...  shop3      be   \n",
       "2617  f2e5afe8ce05318fd548adb4bd96eb783e1b85b0e6d682...  shop3      be   \n",
       "2844  f2e5afe8ce05318fd548adb4bd96eb783e1b85b0e6d682...  shop3      be   \n",
       "4177  f2e5afe8ce05318fd548adb4bd96eb783e1b85b0e6d682...  shop3      be   \n",
       "\n",
       "      location                         promo_type    dlevel        date  \\\n",
       "1279  ledeberg  Price cut with Multibuy Condition  0.357143  2019-08-27   \n",
       "2617       ans  Price cut with Multibuy Condition  0.251256  2019-08-27   \n",
       "2844  ledeberg                          Price cut  0.714286  2019-08-27   \n",
       "4177       ans                          Price cut  0.502513  2019-08-27   \n",
       "\n",
       "                                         daltix_id_date  \n",
       "1279  f2e5afe8ce05318fd548adb4bd96eb783e1b85b0e6d682...  \n",
       "2617  f2e5afe8ce05318fd548adb4bd96eb783e1b85b0e6d682...  \n",
       "2844  f2e5afe8ce05318fd548adb4bd96eb783e1b85b0e6d682...  \n",
       "4177  f2e5afe8ce05318fd548adb4bd96eb783e1b85b0e6d682...  "
      ]
     },
     "execution_count": 20,
     "metadata": {},
     "output_type": "execute_result"
    }
   ],
   "source": [
    "## Extra Check 1 USING PANDAS:\n",
    "\n",
    "promo_tab_2 = promo_tab.copy()\n",
    "\n",
    "# Product simultaneous promos: a new field is required (daltix_id + date)\n",
    "promo_tab_2['daltix_id_date'] = promo_tab_2['daltix_id'] + '_' + promo_tab_2['date']\n",
    "simultaneous_promo = promo_tab_2.groupby('daltix_id_date')['promo_type'].count().to_frame('nr_promos').reset_index()\n",
    "print(simultaneous_promo.nr_promos.unique())\n",
    "simultaneous_promo_ids = list(simultaneous_promo.daltix_id_date[simultaneous_promo.nr_promos == 4])\n",
    "\n",
    "# This reflects different types of promotions with different dlevels, at different location:\n",
    "print('Example 2.4.1:')\n",
    "promo_tab_2[promo_tab_2['daltix_id_date'].isin(simultaneous_promo_ids[0:1])].sort_values(by='date')"
   ]
  },
  {
   "cell_type": "markdown",
   "metadata": {},
   "source": [
    "##### 2.4 - Main Issues Detected\n",
    "\n",
    "- Rounding of the variable 'dlevel' issue (e.g.2.4.2)\n",
    "\n",
    "(see code below)"
   ]
  },
  {
   "cell_type": "code",
   "execution_count": 21,
   "metadata": {},
   "outputs": [
    {
     "name": "stdout",
     "output_type": "stream",
     "text": [
      "[1 2]\n",
      "Example 2.4.2:\n"
     ]
    },
    {
     "data": {
      "text/html": [
       "<div>\n",
       "<style scoped>\n",
       "    .dataframe tbody tr th:only-of-type {\n",
       "        vertical-align: middle;\n",
       "    }\n",
       "\n",
       "    .dataframe tbody tr th {\n",
       "        vertical-align: top;\n",
       "    }\n",
       "\n",
       "    .dataframe thead th {\n",
       "        text-align: right;\n",
       "    }\n",
       "</style>\n",
       "<table border=\"1\" class=\"dataframe\">\n",
       "  <thead>\n",
       "    <tr style=\"text-align: right;\">\n",
       "      <th></th>\n",
       "      <th>daltix_id</th>\n",
       "      <th>shop</th>\n",
       "      <th>country</th>\n",
       "      <th>location</th>\n",
       "      <th>promo_type</th>\n",
       "      <th>dlevel</th>\n",
       "      <th>date</th>\n",
       "      <th>daltix_id_date</th>\n",
       "      <th>daltix_id_date_shop_location</th>\n",
       "    </tr>\n",
       "  </thead>\n",
       "  <tbody>\n",
       "    <tr>\n",
       "      <td>1964</td>\n",
       "      <td>5be2f8a50a96c70e003b80e3d2b80e4209fa5cf57b0843...</td>\n",
       "      <td>shop2</td>\n",
       "      <td>be</td>\n",
       "      <td>base</td>\n",
       "      <td>Price cut with Multibuy Condition</td>\n",
       "      <td>0.333333</td>\n",
       "      <td>2019-09-12</td>\n",
       "      <td>5be2f8a50a96c70e003b80e3d2b80e4209fa5cf57b0843...</td>\n",
       "      <td>5be2f8a50a96c70e003b80e3d2b80e4209fa5cf57b0843...</td>\n",
       "    </tr>\n",
       "    <tr>\n",
       "      <td>4014</td>\n",
       "      <td>5be2f8a50a96c70e003b80e3d2b80e4209fa5cf57b0843...</td>\n",
       "      <td>shop2</td>\n",
       "      <td>be</td>\n",
       "      <td>base</td>\n",
       "      <td>Price cut with Multibuy Condition</td>\n",
       "      <td>0.330000</td>\n",
       "      <td>2019-09-12</td>\n",
       "      <td>5be2f8a50a96c70e003b80e3d2b80e4209fa5cf57b0843...</td>\n",
       "      <td>5be2f8a50a96c70e003b80e3d2b80e4209fa5cf57b0843...</td>\n",
       "    </tr>\n",
       "  </tbody>\n",
       "</table>\n",
       "</div>"
      ],
      "text/plain": [
       "                                              daltix_id   shop country  \\\n",
       "1964  5be2f8a50a96c70e003b80e3d2b80e4209fa5cf57b0843...  shop2      be   \n",
       "4014  5be2f8a50a96c70e003b80e3d2b80e4209fa5cf57b0843...  shop2      be   \n",
       "\n",
       "     location                         promo_type    dlevel        date  \\\n",
       "1964     base  Price cut with Multibuy Condition  0.333333  2019-09-12   \n",
       "4014     base  Price cut with Multibuy Condition  0.330000  2019-09-12   \n",
       "\n",
       "                                         daltix_id_date  \\\n",
       "1964  5be2f8a50a96c70e003b80e3d2b80e4209fa5cf57b0843...   \n",
       "4014  5be2f8a50a96c70e003b80e3d2b80e4209fa5cf57b0843...   \n",
       "\n",
       "                           daltix_id_date_shop_location  \n",
       "1964  5be2f8a50a96c70e003b80e3d2b80e4209fa5cf57b0843...  \n",
       "4014  5be2f8a50a96c70e003b80e3d2b80e4209fa5cf57b0843...  "
      ]
     },
     "execution_count": 21,
     "metadata": {},
     "output_type": "execute_result"
    }
   ],
   "source": [
    "## Extra Check 2 USING PANDAS:\n",
    "\n",
    "# Product simultaneous promos at a specific shop at a specific location:\n",
    "promo_tab_2['daltix_id_date_shop_location'] = promo_tab_2['daltix_id'] + '_' + promo_tab_2['date'] + '_' + promo_tab_2['shop'] + '_' + promo_tab_2['location']\n",
    "simultaneous_promo = promo_tab_2.groupby('daltix_id_date_shop_location')['promo_type'].count().to_frame('nr_promos').reset_index()\n",
    "print(simultaneous_promo.nr_promos.unique())\n",
    "simultaneous_promo_ids = list(simultaneous_promo.daltix_id_date_shop_location[simultaneous_promo.nr_promos == 2])\n",
    "\n",
    "# This reflects different types of promotions:\n",
    "promo_tab_2[promo_tab_2['daltix_id_date_shop_location'].isin(simultaneous_promo_ids[35:36])].sort_values(by='date')\n",
    "\n",
    "# This reflects round(dlevel) issue:\n",
    "print('Example 2.4.2:')\n",
    "promo_tab_2[promo_tab_2['daltix_id_date_shop_location'].isin(simultaneous_promo_ids[0:1])].sort_values(by='date')"
   ]
  },
  {
   "cell_type": "code",
   "execution_count": 22,
   "metadata": {},
   "outputs": [],
   "source": [
    "## Round discount level:\n",
    "promo_tab.dlevel = promo_tab.dlevel.round(2)\n",
    "\n",
    "## Eliminate duplicate rows:\n",
    "promo_tab = promo_tab.drop_duplicates(keep='first')"
   ]
  },
  
  
  
  
  
  
  
  
  
  
  
  
  
  {
   "cell_type": "code",
   "execution_count": null,
   "metadata": {},
   "outputs": [],
   "source": [
    "# code here"
   ]
  },
  {
   "cell_type": "markdown",
   "metadata": {},
   "source": [
    "___________________________\n",
    "## 3 Transformation & Manipulation\n",
    "\n",
    "__Description__\n",
    "\n",
    "In this section you should use the tables provided in the dataset and manipulate them to find valuable business insights.\n",
    "\n",
    "Some questions you should be able to answer:\n",
    "* Which shops have a bigger overlap in their assortment?\n",
    "* Which shop has the overall cheapest assortment? What about cheapest categories?\n",
    "* Which shop is the \"_king_\" of promotions?\n",
    "* Where would you do your shopping? When? Why?\n",
    "* Can you spot any weird price behaviour? \n",
    "\n",
    "The questions above are just some example questions. You should provide any insights you find useful/relevant.\n",
    "\n",
    "_Note:_\n",
    "* Use this section as a prepation for the next!"
   ]
  },
  {
   "cell_type": "code",
   "execution_count": null,
   "metadata": {},
   "outputs": [],
   "source": [
    "# code here"
   ]
  },
  {
   "cell_type": "markdown",
   "metadata": {},
   "source": [
    "___________________\n",
    "## 4. Visualization\n",
    "\n",
    "__Description__\n",
    "\n",
    "Imagine you are presenting the insights you found to your team, which include fellow data analysts, data scientists and business colleagues.\n",
    "\n",
    "Present your findings on the insights you've discovered so far. "
   ]
  },
  {
   "cell_type": "code",
   "execution_count": null,
   "metadata": {},
   "outputs": [],
   "source": [
    "# code here"
   ]
  },
  {
   "cell_type": "markdown",
   "metadata": {},
   "source": [
    "___________________\n",
    "## 5. Discussion\n",
    "\n",
    "__Description__\n",
    "\n",
    "Take some time to prepare some up-coming questions!\n",
    "\n",
    "* If given more time, how would you further refine your analysis? \n",
    "* What other information would you like to have to provide more valuable insigths?"
   ]
  },
  {
   "cell_type": "markdown",
   "metadata": {},
   "source": [
    "#### ANSWER HERE\n",
    "> ..."
   ]
  },
  {
   "cell_type": "markdown",
   "metadata": {},
   "source": [
    "___________________\n",
    "## 6. Bonus question\n",
    "\n",
    "__Description__\n",
    "\n",
    "You now have access to the nutritional values of some products:\n",
    "* **nutri_tbl.csv** - https://daltix-public-interviews.s3-eu-west-1.amazonaws.com/data-analyst-challenge/nutri.csv\n",
    "\n",
    "Assuming that you have to consume between 2200 kcal and 2700 kcal per day, build a basket of 15 products for a [ketogenic diet](https://en.wikipedia.org/wiki/Ketogenic_diet). Where can we buy that basket for the cheapest price? \n",
    "\n",
    "__IMPORTANT__:\n",
    "This is an extra question that you should only focus one if you have time. \n",
    "We will only consider your answer if you solved all the previous sections."
   ]
  },
  {
   "cell_type": "code",
   "execution_count": null,
   "metadata": {},
   "outputs": [],
   "source": [
    "# code here"
   ]
  }
 ],
 "metadata": {
  "kernelspec": {
   "display_name": "Python 3",
   "language": "python",
   "name": "python3"
  },
  "language_info": {
   "codemirror_mode": {
    "name": "ipython",
    "version": 3
   },
   "file_extension": ".py",
   "mimetype": "text/x-python",
   "name": "python",
   "nbconvert_exporter": "python",
   "pygments_lexer": "ipython3",
   "version": "3.6.8"
  }
 },
 "nbformat": 4,
 "nbformat_minor": 4
}
